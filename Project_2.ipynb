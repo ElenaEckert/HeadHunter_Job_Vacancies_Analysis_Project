{
  "cells": [
    {
      "cell_type": "markdown",
      "id": "42289889-bd57-434e-9637-d3e354756316",
      "metadata": {
        "id": "42289889-bd57-434e-9637-d3e354756316"
      },
      "source": [
        "<center> <img src = https://raw.githubusercontent.com/AndreyRysistov/DatasetsForPandas/main/hh%20label.jpg alt=\"drawing\" style=\"width:400px;\">"
      ]
    },
    {
      "cell_type": "markdown",
      "id": "829cb75b-f14e-4ba8-9195-7ba929a7d656",
      "metadata": {
        "id": "829cb75b-f14e-4ba8-9195-7ba929a7d656",
        "tags": []
      },
      "source": [
        "# <center> Проект: Анализ вакансий из HeadHunter\n",
        "   "
      ]
    },
    {
      "cell_type": "code",
      "execution_count": 1,
      "id": "dccfde33-2452-43fb-a8a5-5c6ebc02a71d",
      "metadata": {
        "id": "dccfde33-2452-43fb-a8a5-5c6ebc02a71d"
      },
      "outputs": [],
      "source": [
        "import pandas as pd\n",
        "from sqlalchemy import create_engine"
      ]
    },
    {
      "cell_type": "code",
      "execution_count": null,
      "id": "oVKH4ehvf8Ay",
      "metadata": {
        "id": "oVKH4ehvf8Ay"
      },
      "outputs": [],
      "source": [
        "# вставьте сюда параметры подключения из юнита 1. Работа с базой данных из Python \n",
        "\n",
        "from dotenv import load_dotenv\n",
        "import os\n",
        "\n",
        "load_dotenv()  # Загружаем переменные из .env\n",
        "\n",
        "DBNAME = os.getenv(\"DBNAME\")\n",
        "USER = os.getenv(\"USER\")\n",
        "PASSWORD = os.getenv(\"PASSWORD\")\n",
        "HOST = os.getenv(\"HOST\")\n",
        "PORT = os.getenv(\"PORT\")\n"
      ]
    },
    {
      "cell_type": "code",
      "execution_count": 3,
      "id": "df6fe098",
      "metadata": {},
      "outputs": [],
      "source": [
        "# подключение через sqlalchemy\n",
        "engine = create_engine(f'postgresql+psycopg2://{USER}:{PASSWORD}@{HOST}:{PORT}/{DBNAME}', client_encoding='utf8')"
      ]
    },
    {
      "cell_type": "markdown",
      "id": "0dc6476b-7a00-44f1-ac93-6e3baed33a29",
      "metadata": {
        "id": "0dc6476b-7a00-44f1-ac93-6e3baed33a29"
      },
      "source": [
        "# Юнит 3. Предварительный анализ данных"
      ]
    },
    {
      "cell_type": "markdown",
      "id": "889782b6-8d1c-410e-8920-e57f27917c64",
      "metadata": {
        "id": "889782b6-8d1c-410e-8920-e57f27917c64"
      },
      "source": [
        "1. Напишите запрос, который посчитает количество вакансий в нашей базе (вакансии находятся в таблице vacancies). "
      ]
    },
    {
      "cell_type": "code",
      "execution_count": 4,
      "id": "bc39e68e-ed02-4ee2-9235-7258a2f867a8",
      "metadata": {
        "id": "bc39e68e-ed02-4ee2-9235-7258a2f867a8"
      },
      "outputs": [
        {
          "data": {
            "text/html": [
              "<div>\n",
              "<style scoped>\n",
              "    .dataframe tbody tr th:only-of-type {\n",
              "        vertical-align: middle;\n",
              "    }\n",
              "\n",
              "    .dataframe tbody tr th {\n",
              "        vertical-align: top;\n",
              "    }\n",
              "\n",
              "    .dataframe thead th {\n",
              "        text-align: right;\n",
              "    }\n",
              "</style>\n",
              "<table border=\"1\" class=\"dataframe\">\n",
              "  <thead>\n",
              "    <tr style=\"text-align: right;\">\n",
              "      <th></th>\n",
              "      <th>count</th>\n",
              "    </tr>\n",
              "  </thead>\n",
              "  <tbody>\n",
              "    <tr>\n",
              "      <th>0</th>\n",
              "      <td>49197</td>\n",
              "    </tr>\n",
              "  </tbody>\n",
              "</table>\n",
              "</div>"
            ],
            "text/plain": [
              "   count\n",
              "0  49197"
            ]
          },
          "execution_count": 4,
          "metadata": {},
          "output_type": "execute_result"
        }
      ],
      "source": [
        "# текст запроса\n",
        "query_3_1 = f'''select count(*) from vacancies'''\n",
        "\n",
        "count_vacancies = pd.read_sql_query(query_3_1, engine)\n",
        "count_vacancies"
      ]
    },
    {
      "cell_type": "markdown",
      "id": "320728b1",
      "metadata": {},
      "source": [
        "**Результат запроса**\n",
        "\n",
        "Общее количество вакансий в базе **49197**\n",
        "\n",
        "---"
      ]
    },
    {
      "cell_type": "markdown",
      "id": "b583485d-1f9e-494e-ada4-80ffff7c53d6",
      "metadata": {
        "id": "b583485d-1f9e-494e-ada4-80ffff7c53d6"
      },
      "source": [
        "2. Напишите запрос, который посчитает количество работодателей (таблица employers). "
      ]
    },
    {
      "cell_type": "code",
      "execution_count": 5,
      "id": "5408c52c-3407-4a63-b25b-1aafa2322d28",
      "metadata": {
        "id": "5408c52c-3407-4a63-b25b-1aafa2322d28"
      },
      "outputs": [
        {
          "data": {
            "text/html": [
              "<div>\n",
              "<style scoped>\n",
              "    .dataframe tbody tr th:only-of-type {\n",
              "        vertical-align: middle;\n",
              "    }\n",
              "\n",
              "    .dataframe tbody tr th {\n",
              "        vertical-align: top;\n",
              "    }\n",
              "\n",
              "    .dataframe thead th {\n",
              "        text-align: right;\n",
              "    }\n",
              "</style>\n",
              "<table border=\"1\" class=\"dataframe\">\n",
              "  <thead>\n",
              "    <tr style=\"text-align: right;\">\n",
              "      <th></th>\n",
              "      <th>count</th>\n",
              "    </tr>\n",
              "  </thead>\n",
              "  <tbody>\n",
              "    <tr>\n",
              "      <th>0</th>\n",
              "      <td>23501</td>\n",
              "    </tr>\n",
              "  </tbody>\n",
              "</table>\n",
              "</div>"
            ],
            "text/plain": [
              "   count\n",
              "0  23501"
            ]
          },
          "execution_count": 5,
          "metadata": {},
          "output_type": "execute_result"
        }
      ],
      "source": [
        "# текст запроса\n",
        "query_3_2 = f'''select count(*) from employers'''\n",
        "count_employers = pd.read_sql_query(query_3_2, engine)\n",
        "count_employers"
      ]
    },
    {
      "cell_type": "markdown",
      "id": "6ff3ea9d",
      "metadata": {},
      "source": [
        "**Результат запроса**\n",
        "\n",
        "Общее количество работодатлей **23501**\n",
        "\n",
        "---"
      ]
    },
    {
      "cell_type": "markdown",
      "id": "a2bfff1f-c975-4bf6-84be-2185d79dcb76",
      "metadata": {
        "id": "a2bfff1f-c975-4bf6-84be-2185d79dcb76"
      },
      "source": [
        "3. Посчитате с помощью запроса количество регионов (таблица areas)."
      ]
    },
    {
      "cell_type": "code",
      "execution_count": 9,
      "id": "1m8QJwBYhey6",
      "metadata": {
        "id": "1m8QJwBYhey6"
      },
      "outputs": [
        {
          "data": {
            "text/html": [
              "<div>\n",
              "<style scoped>\n",
              "    .dataframe tbody tr th:only-of-type {\n",
              "        vertical-align: middle;\n",
              "    }\n",
              "\n",
              "    .dataframe tbody tr th {\n",
              "        vertical-align: top;\n",
              "    }\n",
              "\n",
              "    .dataframe thead th {\n",
              "        text-align: right;\n",
              "    }\n",
              "</style>\n",
              "<table border=\"1\" class=\"dataframe\">\n",
              "  <thead>\n",
              "    <tr style=\"text-align: right;\">\n",
              "      <th></th>\n",
              "      <th>count</th>\n",
              "    </tr>\n",
              "  </thead>\n",
              "  <tbody>\n",
              "    <tr>\n",
              "      <th>0</th>\n",
              "      <td>1362</td>\n",
              "    </tr>\n",
              "  </tbody>\n",
              "</table>\n",
              "</div>"
            ],
            "text/plain": [
              "   count\n",
              "0   1362"
            ]
          },
          "execution_count": 9,
          "metadata": {},
          "output_type": "execute_result"
        }
      ],
      "source": [
        "# текст запроса\n",
        "\n",
        "query_3_3 = f'''select count(*) from areas'''\n",
        "count_areas = pd.read_sql_query(query_3_3, engine)\n",
        "count_areas"
      ]
    },
    {
      "cell_type": "markdown",
      "id": "255871ed",
      "metadata": {},
      "source": [
        "**Результат запроса**\n",
        "\n",
        "Общее количество представленных регионов **1362**\n",
        "\n",
        "---"
      ]
    },
    {
      "cell_type": "markdown",
      "id": "41bb59f3-53cc-4a67-a5bc-bedf573955e4",
      "metadata": {
        "id": "41bb59f3-53cc-4a67-a5bc-bedf573955e4"
      },
      "source": [
        "4. Посчитате с помощью запроса количество сфер деятельности в базе (таблица industries)."
      ]
    },
    {
      "cell_type": "code",
      "execution_count": 10,
      "id": "d286cf4c-707b-4cd2-9190-7ab3587d04a1",
      "metadata": {
        "id": "d286cf4c-707b-4cd2-9190-7ab3587d04a1"
      },
      "outputs": [
        {
          "data": {
            "text/html": [
              "<div>\n",
              "<style scoped>\n",
              "    .dataframe tbody tr th:only-of-type {\n",
              "        vertical-align: middle;\n",
              "    }\n",
              "\n",
              "    .dataframe tbody tr th {\n",
              "        vertical-align: top;\n",
              "    }\n",
              "\n",
              "    .dataframe thead th {\n",
              "        text-align: right;\n",
              "    }\n",
              "</style>\n",
              "<table border=\"1\" class=\"dataframe\">\n",
              "  <thead>\n",
              "    <tr style=\"text-align: right;\">\n",
              "      <th></th>\n",
              "      <th>count</th>\n",
              "    </tr>\n",
              "  </thead>\n",
              "  <tbody>\n",
              "    <tr>\n",
              "      <th>0</th>\n",
              "      <td>294</td>\n",
              "    </tr>\n",
              "  </tbody>\n",
              "</table>\n",
              "</div>"
            ],
            "text/plain": [
              "   count\n",
              "0    294"
            ]
          },
          "execution_count": 10,
          "metadata": {},
          "output_type": "execute_result"
        }
      ],
      "source": [
        "# текст запроса\n",
        "\n",
        "query_3_4 = f'''select count(*) from industries'''\n",
        "count_industries = pd.read_sql_query(query_3_4, engine)\n",
        "count_industries"
      ]
    },
    {
      "cell_type": "markdown",
      "id": "2b3f3e2b",
      "metadata": {},
      "source": [
        "**Результат запроса**\n",
        "\n",
        "Общее количество сфер деятельности **294**\n",
        "\n",
        "---"
      ]
    },
    {
      "cell_type": "markdown",
      "id": "b7b914f6",
      "metadata": {},
      "source": [
        "## Выводы по предварительному анализу данных\n",
        "\n",
        "В базе данных представлено 49197 вакансий, которые размещены 23501 работодателем. Вакансии охватывают 1362 региона и 294 сферы деятельности. \n",
        "\n",
        "Это говорит о том, что работодатели в среднем публикуют по 2 вакансии, что может означать, что у большинства компаний мало открытых позиций. Но это пока предварительно, надо посмотреть распределение числа вакансий по работодателям.\n",
        "\n",
        "Количество регионов довольно велико, значит регионы охватывают как крупные города, так и небольшие населенные пункты. \n",
        "\n",
        "Также видно по значительному количеству сфер деятельности, что рынок вакансий достаточно диверсифицирован."
      ]
    },
    {
      "cell_type": "markdown",
      "id": "8d62a9f3-f64e-4fe7-bdac-c4dffa16155e",
      "metadata": {
        "id": "8d62a9f3-f64e-4fe7-bdac-c4dffa16155e"
      },
      "source": [
        "# Юнит 4. Детальный анализ вакансий"
      ]
    },
    {
      "cell_type": "markdown",
      "id": "93053d3d-b284-481a-9cf7-012d7014c0e0",
      "metadata": {
        "id": "93053d3d-b284-481a-9cf7-012d7014c0e0"
      },
      "source": [
        "1. Напишите запрос, который позволит узнать, сколько (cnt) вакансий в каждом регионе (area).\n",
        "Отсортируйте по количеству вакансий в порядке убывания."
      ]
    },
    {
      "cell_type": "code",
      "execution_count": 7,
      "id": "3f069da6-fdc9-4ae7-b514-fafe2675efd3",
      "metadata": {
        "id": "3f069da6-fdc9-4ae7-b514-fafe2675efd3"
      },
      "outputs": [
        {
          "data": {
            "text/html": [
              "<div>\n",
              "<style scoped>\n",
              "    .dataframe tbody tr th:only-of-type {\n",
              "        vertical-align: middle;\n",
              "    }\n",
              "\n",
              "    .dataframe tbody tr th {\n",
              "        vertical-align: top;\n",
              "    }\n",
              "\n",
              "    .dataframe thead th {\n",
              "        text-align: right;\n",
              "    }\n",
              "</style>\n",
              "<table border=\"1\" class=\"dataframe\">\n",
              "  <thead>\n",
              "    <tr style=\"text-align: right;\">\n",
              "      <th></th>\n",
              "      <th>area</th>\n",
              "      <th>cnt</th>\n",
              "    </tr>\n",
              "  </thead>\n",
              "  <tbody>\n",
              "    <tr>\n",
              "      <th>0</th>\n",
              "      <td>Москва</td>\n",
              "      <td>5333</td>\n",
              "    </tr>\n",
              "    <tr>\n",
              "      <th>1</th>\n",
              "      <td>Санкт-Петербург</td>\n",
              "      <td>2851</td>\n",
              "    </tr>\n",
              "    <tr>\n",
              "      <th>2</th>\n",
              "      <td>Минск</td>\n",
              "      <td>2112</td>\n",
              "    </tr>\n",
              "    <tr>\n",
              "      <th>3</th>\n",
              "      <td>Новосибирск</td>\n",
              "      <td>2006</td>\n",
              "    </tr>\n",
              "    <tr>\n",
              "      <th>4</th>\n",
              "      <td>Алматы</td>\n",
              "      <td>1892</td>\n",
              "    </tr>\n",
              "    <tr>\n",
              "      <th>5</th>\n",
              "      <td>Екатеринбург</td>\n",
              "      <td>1698</td>\n",
              "    </tr>\n",
              "    <tr>\n",
              "      <th>6</th>\n",
              "      <td>Нижний Новгород</td>\n",
              "      <td>1670</td>\n",
              "    </tr>\n",
              "    <tr>\n",
              "      <th>7</th>\n",
              "      <td>Казань</td>\n",
              "      <td>1415</td>\n",
              "    </tr>\n",
              "    <tr>\n",
              "      <th>8</th>\n",
              "      <td>Краснодар</td>\n",
              "      <td>1301</td>\n",
              "    </tr>\n",
              "    <tr>\n",
              "      <th>9</th>\n",
              "      <td>Самара</td>\n",
              "      <td>1144</td>\n",
              "    </tr>\n",
              "    <tr>\n",
              "      <th>10</th>\n",
              "      <td>Ростов-на-Дону</td>\n",
              "      <td>1131</td>\n",
              "    </tr>\n",
              "    <tr>\n",
              "      <th>11</th>\n",
              "      <td>Воронеж</td>\n",
              "      <td>1063</td>\n",
              "    </tr>\n",
              "    <tr>\n",
              "      <th>12</th>\n",
              "      <td>Ташкент</td>\n",
              "      <td>851</td>\n",
              "    </tr>\n",
              "    <tr>\n",
              "      <th>13</th>\n",
              "      <td>Красноярск</td>\n",
              "      <td>847</td>\n",
              "    </tr>\n",
              "    <tr>\n",
              "      <th>14</th>\n",
              "      <td>Нур-Султан</td>\n",
              "      <td>840</td>\n",
              "    </tr>\n",
              "  </tbody>\n",
              "</table>\n",
              "</div>"
            ],
            "text/plain": [
              "               area   cnt\n",
              "0            Москва  5333\n",
              "1   Санкт-Петербург  2851\n",
              "2             Минск  2112\n",
              "3       Новосибирск  2006\n",
              "4            Алматы  1892\n",
              "5      Екатеринбург  1698\n",
              "6   Нижний Новгород  1670\n",
              "7            Казань  1415\n",
              "8         Краснодар  1301\n",
              "9            Самара  1144\n",
              "10   Ростов-на-Дону  1131\n",
              "11          Воронеж  1063\n",
              "12          Ташкент   851\n",
              "13       Красноярск   847\n",
              "14       Нур-Султан   840"
            ]
          },
          "execution_count": 7,
          "metadata": {},
          "output_type": "execute_result"
        }
      ],
      "source": [
        "# текст запроса\n",
        "\n",
        "query_4_1 = f'''\n",
        "-- Выбираем название региона и количество вакансий в нем\n",
        "SELECT  \n",
        "    a.name AS area,     -- Название региона\n",
        "    COUNT(*) AS cnt     -- Количество вакансий\n",
        "FROM areas a\n",
        "JOIN vacancies v\n",
        "    ON a.id = v.area_id  -- Связываем таблицу вакансий с регионами по ID\n",
        "GROUP BY 1               -- Группируем по названию региона\n",
        "ORDER BY 2 DESC          -- Сортируем по количеству вакансий (по убыванию)\n",
        "LIMIT 15                 -- Оставляем только 15 регионов с наибольшим числом вакансий\n",
        "'''\n",
        "\n",
        "# Выполняем запрос и загружаем данные в DataFrame\n",
        "count_first_five = pd.read_sql_query(query_4_1, engine)\n",
        "count_first_five\n",
        "\n",
        "# результат запроса"
      ]
    },
    {
      "cell_type": "markdown",
      "id": "4266f0b6-1646-492a-88b4-2f6a46502135",
      "metadata": {
        "id": "4266f0b6-1646-492a-88b4-2f6a46502135"
      },
      "source": [
        "2. Напишите запрос, чтобы определить у какого количества вакансий заполнено хотя бы одно из двух полей с зарплатой."
      ]
    },
    {
      "cell_type": "code",
      "execution_count": 8,
      "id": "0c44b350-72eb-4d65-8b54-a1fc449ba9fd",
      "metadata": {
        "id": "0c44b350-72eb-4d65-8b54-a1fc449ba9fd"
      },
      "outputs": [
        {
          "data": {
            "text/html": [
              "<div>\n",
              "<style scoped>\n",
              "    .dataframe tbody tr th:only-of-type {\n",
              "        vertical-align: middle;\n",
              "    }\n",
              "\n",
              "    .dataframe tbody tr th {\n",
              "        vertical-align: top;\n",
              "    }\n",
              "\n",
              "    .dataframe thead th {\n",
              "        text-align: right;\n",
              "    }\n",
              "</style>\n",
              "<table border=\"1\" class=\"dataframe\">\n",
              "  <thead>\n",
              "    <tr style=\"text-align: right;\">\n",
              "      <th></th>\n",
              "      <th>vacancies_with_salary</th>\n",
              "    </tr>\n",
              "  </thead>\n",
              "  <tbody>\n",
              "    <tr>\n",
              "      <th>0</th>\n",
              "      <td>24073</td>\n",
              "    </tr>\n",
              "  </tbody>\n",
              "</table>\n",
              "</div>"
            ],
            "text/plain": [
              "   vacancies_with_salary\n",
              "0                  24073"
            ]
          },
          "execution_count": 8,
          "metadata": {},
          "output_type": "execute_result"
        }
      ],
      "source": [
        "# текст запроса\n",
        "\n",
        "query_4_2 = f'''\n",
        "-- Считаем количество вакансий, у которых указана хотя бы одна граница зарплатного диапазона\n",
        "SELECT  \n",
        "    COUNT(*) AS vacancies_with_salary  -- Количество вакансий с указанной зарплатой\n",
        "FROM vacancies\n",
        "WHERE salary_from IS NOT NULL \n",
        "   OR salary_to IS NOT NULL  -- Учитываем вакансии, где указана хотя бы одна граница зарплаты\n",
        "'''\n",
        "\n",
        "# Выполняем запрос и загружаем результат в DataFrame\n",
        "vacancies_with_salary = pd.read_sql_query(query_4_2, engine)\n",
        "vacancies_with_salary\n",
        "\n",
        "# результат запроса"
      ]
    },
    {
      "cell_type": "markdown",
      "id": "635c4d5d-f323-4c66-b428-50a088120aa0",
      "metadata": {
        "id": "635c4d5d-f323-4c66-b428-50a088120aa0"
      },
      "source": [
        "3. Найдите средние значения для нижней и верхней границы зарплатной вилки. Округлите значения до целого."
      ]
    },
    {
      "cell_type": "code",
      "execution_count": 9,
      "id": "603cdbe4-0ec3-4106-8eaf-c73fcdd29165",
      "metadata": {
        "id": "603cdbe4-0ec3-4106-8eaf-c73fcdd29165"
      },
      "outputs": [
        {
          "data": {
            "text/html": [
              "<div>\n",
              "<style scoped>\n",
              "    .dataframe tbody tr th:only-of-type {\n",
              "        vertical-align: middle;\n",
              "    }\n",
              "\n",
              "    .dataframe tbody tr th {\n",
              "        vertical-align: top;\n",
              "    }\n",
              "\n",
              "    .dataframe thead th {\n",
              "        text-align: right;\n",
              "    }\n",
              "</style>\n",
              "<table border=\"1\" class=\"dataframe\">\n",
              "  <thead>\n",
              "    <tr style=\"text-align: right;\">\n",
              "      <th></th>\n",
              "      <th>avg_salary_from</th>\n",
              "      <th>avg_salary_to</th>\n",
              "    </tr>\n",
              "  </thead>\n",
              "  <tbody>\n",
              "    <tr>\n",
              "      <th>0</th>\n",
              "      <td>71065.0</td>\n",
              "      <td>110537.0</td>\n",
              "    </tr>\n",
              "  </tbody>\n",
              "</table>\n",
              "</div>"
            ],
            "text/plain": [
              "   avg_salary_from  avg_salary_to\n",
              "0          71065.0       110537.0"
            ]
          },
          "execution_count": 9,
          "metadata": {},
          "output_type": "execute_result"
        }
      ],
      "source": [
        "# текст запроса\n",
        "\n",
        "query_4_3 = f'''\n",
        "-- Определяем средние значения для нижней и верхней границы зарплатного диапазона\n",
        "-- Округляем до целого числа\n",
        "SELECT  \n",
        "    ROUND(AVG(salary_from)) AS avg_salary_from,  -- Средняя нижняя граница зарплаты\n",
        "    ROUND(AVG(salary_to)) AS avg_salary_to      -- Средняя верхняя граница зарплаты\n",
        "FROM vacancies\n",
        "'''\n",
        "\n",
        "# Выполняем запрос и загружаем результат в DataFrame\n",
        "avg_salaries = pd.read_sql_query(query_4_3, engine)\n",
        "avg_salaries\n",
        "\n",
        "# результат запроса"
      ]
    },
    {
      "cell_type": "markdown",
      "id": "f3fdaec9-5fd3-4260-9cf5-1d7406b628a5",
      "metadata": {
        "id": "f3fdaec9-5fd3-4260-9cf5-1d7406b628a5"
      },
      "source": [
        "4. Напишите запрос, который выведет количество вакансий для каждого сочетания типа рабочего графика (schedule) и типа трудоустройства (employment), используемого в вакансиях. Результат отсортируйте по убыванию количества.\n"
      ]
    },
    {
      "cell_type": "code",
      "execution_count": null,
      "id": "1ea710ec-871b-431e-9462-c7d0fd87011b",
      "metadata": {
        "id": "1ea710ec-871b-431e-9462-c7d0fd87011b"
      },
      "outputs": [
        {
          "data": {
            "text/html": [
              "<div>\n",
              "<style scoped>\n",
              "    .dataframe tbody tr th:only-of-type {\n",
              "        vertical-align: middle;\n",
              "    }\n",
              "\n",
              "    .dataframe tbody tr th {\n",
              "        vertical-align: top;\n",
              "    }\n",
              "\n",
              "    .dataframe thead th {\n",
              "        text-align: right;\n",
              "    }\n",
              "</style>\n",
              "<table border=\"1\" class=\"dataframe\">\n",
              "  <thead>\n",
              "    <tr style=\"text-align: right;\">\n",
              "      <th></th>\n",
              "      <th>schedule</th>\n",
              "      <th>employment</th>\n",
              "      <th>vacancy_count</th>\n",
              "    </tr>\n",
              "  </thead>\n",
              "  <tbody>\n",
              "    <tr>\n",
              "      <th>0</th>\n",
              "      <td>Полный день</td>\n",
              "      <td>Полная занятость</td>\n",
              "      <td>35367</td>\n",
              "    </tr>\n",
              "    <tr>\n",
              "      <th>1</th>\n",
              "      <td>Удаленная работа</td>\n",
              "      <td>Полная занятость</td>\n",
              "      <td>7802</td>\n",
              "    </tr>\n",
              "    <tr>\n",
              "      <th>2</th>\n",
              "      <td>Гибкий график</td>\n",
              "      <td>Полная занятость</td>\n",
              "      <td>1593</td>\n",
              "    </tr>\n",
              "    <tr>\n",
              "      <th>3</th>\n",
              "      <td>Удаленная работа</td>\n",
              "      <td>Частичная занятость</td>\n",
              "      <td>1312</td>\n",
              "    </tr>\n",
              "    <tr>\n",
              "      <th>4</th>\n",
              "      <td>Сменный график</td>\n",
              "      <td>Полная занятость</td>\n",
              "      <td>940</td>\n",
              "    </tr>\n",
              "    <tr>\n",
              "      <th>5</th>\n",
              "      <td>Полный день</td>\n",
              "      <td>Стажировка</td>\n",
              "      <td>569</td>\n",
              "    </tr>\n",
              "    <tr>\n",
              "      <th>6</th>\n",
              "      <td>Вахтовый метод</td>\n",
              "      <td>Полная занятость</td>\n",
              "      <td>367</td>\n",
              "    </tr>\n",
              "    <tr>\n",
              "      <th>7</th>\n",
              "      <td>Полный день</td>\n",
              "      <td>Частичная занятость</td>\n",
              "      <td>347</td>\n",
              "    </tr>\n",
              "    <tr>\n",
              "      <th>8</th>\n",
              "      <td>Гибкий график</td>\n",
              "      <td>Частичная занятость</td>\n",
              "      <td>312</td>\n",
              "    </tr>\n",
              "    <tr>\n",
              "      <th>9</th>\n",
              "      <td>Полный день</td>\n",
              "      <td>Проектная работа</td>\n",
              "      <td>141</td>\n",
              "    </tr>\n",
              "    <tr>\n",
              "      <th>10</th>\n",
              "      <td>Удаленная работа</td>\n",
              "      <td>Проектная работа</td>\n",
              "      <td>133</td>\n",
              "    </tr>\n",
              "    <tr>\n",
              "      <th>11</th>\n",
              "      <td>Гибкий график</td>\n",
              "      <td>Стажировка</td>\n",
              "      <td>116</td>\n",
              "    </tr>\n",
              "    <tr>\n",
              "      <th>12</th>\n",
              "      <td>Сменный график</td>\n",
              "      <td>Частичная занятость</td>\n",
              "      <td>101</td>\n",
              "    </tr>\n",
              "    <tr>\n",
              "      <th>13</th>\n",
              "      <td>Удаленная работа</td>\n",
              "      <td>Стажировка</td>\n",
              "      <td>64</td>\n",
              "    </tr>\n",
              "    <tr>\n",
              "      <th>14</th>\n",
              "      <td>Гибкий график</td>\n",
              "      <td>Проектная работа</td>\n",
              "      <td>18</td>\n",
              "    </tr>\n",
              "    <tr>\n",
              "      <th>15</th>\n",
              "      <td>Сменный график</td>\n",
              "      <td>Стажировка</td>\n",
              "      <td>12</td>\n",
              "    </tr>\n",
              "    <tr>\n",
              "      <th>16</th>\n",
              "      <td>Вахтовый метод</td>\n",
              "      <td>Проектная работа</td>\n",
              "      <td>2</td>\n",
              "    </tr>\n",
              "    <tr>\n",
              "      <th>17</th>\n",
              "      <td>Сменный график</td>\n",
              "      <td>Проектная работа</td>\n",
              "      <td>1</td>\n",
              "    </tr>\n",
              "  </tbody>\n",
              "</table>\n",
              "</div>"
            ],
            "text/plain": [
              "            schedule           employment  vacancy_count\n",
              "0        Полный день     Полная занятость          35367\n",
              "1   Удаленная работа     Полная занятость           7802\n",
              "2      Гибкий график     Полная занятость           1593\n",
              "3   Удаленная работа  Частичная занятость           1312\n",
              "4     Сменный график     Полная занятость            940\n",
              "5        Полный день           Стажировка            569\n",
              "6     Вахтовый метод     Полная занятость            367\n",
              "7        Полный день  Частичная занятость            347\n",
              "8      Гибкий график  Частичная занятость            312\n",
              "9        Полный день     Проектная работа            141\n",
              "10  Удаленная работа     Проектная работа            133\n",
              "11     Гибкий график           Стажировка            116\n",
              "12    Сменный график  Частичная занятость            101\n",
              "13  Удаленная работа           Стажировка             64\n",
              "14     Гибкий график     Проектная работа             18\n",
              "15    Сменный график           Стажировка             12\n",
              "16    Вахтовый метод     Проектная работа              2\n",
              "17    Сменный график     Проектная работа              1"
            ]
          },
          "execution_count": 21,
          "metadata": {},
          "output_type": "execute_result"
        }
      ],
      "source": [
        "# текст запроса\n",
        "\n",
        "query_4_4 = f'''\n",
        "-- Подсчитываем количество вакансий для каждого сочетания \n",
        "-- типа рабочего графика (schedule) и типа трудоустройства (employment)\n",
        "SELECT  \n",
        "    schedule,      -- Тип рабочего графика (полный день, гибкий, сменный и т. д.)\n",
        "    employment,    -- Тип занятости (полная, частичная, стажировка и т. д.)\n",
        "    COUNT(*) AS vacancy_count  -- Количество вакансий для данной комбинации\n",
        "FROM vacancies \n",
        "GROUP BY schedule, employment  -- Группируем по обоим параметрам\n",
        "ORDER BY vacancy_count DESC     -- Сортируем по количеству вакансий в порядке убывания\n",
        "'''\n",
        "\n",
        "# Выполняем запрос и загружаем результат в DataFrame\n",
        "schedule_employment_stats = pd.read_sql_query(query_4_4, engine)\n",
        "schedule_employment_stats\n",
        "\n",
        "\n",
        "# результат запроса"
      ]
    },
    {
      "cell_type": "markdown",
      "id": "0136ffee-0ead-4a6b-b608-61d1c753a438",
      "metadata": {
        "id": "0136ffee-0ead-4a6b-b608-61d1c753a438"
      },
      "source": [
        "5. Напишите запрос, выводящий значения поля Требуемый опыт работы (experience) в порядке возрастания количества вакансий, в которых указан данный вариант опыта. "
      ]
    },
    {
      "cell_type": "code",
      "execution_count": null,
      "id": "5b3a8e79-f7ab-4008-b767-12aea3a205ea",
      "metadata": {
        "id": "5b3a8e79-f7ab-4008-b767-12aea3a205ea"
      },
      "outputs": [
        {
          "data": {
            "text/html": [
              "<div>\n",
              "<style scoped>\n",
              "    .dataframe tbody tr th:only-of-type {\n",
              "        vertical-align: middle;\n",
              "    }\n",
              "\n",
              "    .dataframe tbody tr th {\n",
              "        vertical-align: top;\n",
              "    }\n",
              "\n",
              "    .dataframe thead th {\n",
              "        text-align: right;\n",
              "    }\n",
              "</style>\n",
              "<table border=\"1\" class=\"dataframe\">\n",
              "  <thead>\n",
              "    <tr style=\"text-align: right;\">\n",
              "      <th></th>\n",
              "      <th>experience</th>\n",
              "      <th>vacancy_count</th>\n",
              "    </tr>\n",
              "  </thead>\n",
              "  <tbody>\n",
              "    <tr>\n",
              "      <th>0</th>\n",
              "      <td>Более 6 лет</td>\n",
              "      <td>1337</td>\n",
              "    </tr>\n",
              "    <tr>\n",
              "      <th>1</th>\n",
              "      <td>Нет опыта</td>\n",
              "      <td>7197</td>\n",
              "    </tr>\n",
              "    <tr>\n",
              "      <th>2</th>\n",
              "      <td>От 3 до 6 лет</td>\n",
              "      <td>14511</td>\n",
              "    </tr>\n",
              "    <tr>\n",
              "      <th>3</th>\n",
              "      <td>От 1 года до 3 лет</td>\n",
              "      <td>26152</td>\n",
              "    </tr>\n",
              "  </tbody>\n",
              "</table>\n",
              "</div>"
            ],
            "text/plain": [
              "           experience  vacancy_count\n",
              "0         Более 6 лет           1337\n",
              "1           Нет опыта           7197\n",
              "2       От 3 до 6 лет          14511\n",
              "3  От 1 года до 3 лет          26152"
            ]
          },
          "execution_count": 22,
          "metadata": {},
          "output_type": "execute_result"
        }
      ],
      "source": [
        "# текст запроса\n",
        "\n",
        "query_4_5 = f'''\n",
        "-- Подсчитываем количество вакансий для каждого варианта требуемого опыта работы\n",
        "SELECT  \n",
        "    experience,      -- Требуемый опыт работы (например, \"Нет опыта\", \"От 1 года до 3 лет\" и т. д.)\n",
        "    COUNT(*) AS vacancy_count  -- Количество вакансий с данным уровнем опыта\n",
        "FROM vacancies \n",
        "GROUP BY experience  -- Группируем по полю \"experience\"\n",
        "ORDER BY vacancy_count ASC  -- Сортируем по количеству вакансий в порядке возрастания\n",
        "'''\n",
        "\n",
        "# Выполняем запрос и загружаем результат в DataFrame\n",
        "experience_stats = pd.read_sql_query(query_4_5, engine)\n",
        "experience_stats\n",
        "\n",
        "\n",
        "# результат запроса"
      ]
    },
    {
      "cell_type": "markdown",
      "id": "oq2b7n1QpIka",
      "metadata": {
        "id": "oq2b7n1QpIka"
      },
      "source": [
        "***"
      ]
    },
    {
      "cell_type": "markdown",
      "id": "d7945c6c",
      "metadata": {},
      "source": [
        "## выводы по детальному анализу вакансий\n",
        "\n",
        "### **1. Количество вакансий в регионах**  \n",
        "- Наибольшее количество вакансий представлено в **Москве (5333)**, затем идут **Санкт-Петербург (2851)** и **Минск (2112)**.  \n",
        "- Высокая активность наблюдается, в основном, в столицах  и крупных городах.  \n",
        "- Среди зарубежных городов с наибольшим количеством выставленных вакансий:  **Минск (2112), Алматы(1892), Ташкент (851), Нур-Султан (840)**, что говорит о том, что международный рынок труда представляют, главным образом, страны ближнего зарубежья.\n",
        "\n",
        "---\n",
        "\n",
        "### **2. Заполненность полей зарплат**  \n",
        "- У **24 073 из 49 197 вакансий (около 49%)** есть хотя бы одно из двух значений зарплаты (`salary_from` или `salary_to`).  \n",
        "- Это означает, что почти половина работодателей **указывает уровень дохода**, но значительная часть (примерно 51%) предпочитает не раскрывать зарплатные ожидания.  \n",
        "- Это может указывать на гибкость в переговорах о зарплате или нежелание заранее показывать возможный уровень дохода соискателям.\n",
        "\n",
        "---\n",
        "\n",
        "### **3. Средний уровень зарплатной вилки**  \n",
        "- Среднее значение **`salary_from`**: **71065 ₽**.  \n",
        "- Среднее значение **`salary_to`**: **110537 ₽**.  \n",
        "- Средний разброс **39472 ₽**, что указывает на значительный диапазон зарплатных предложений.  \n",
        "- Верхняя граница (`salary_to`) почти в **1.5 раза выше**, что может свидетельствовать о взаимозависимости потенциальной зарплаты и квалификации кандидата.\n",
        "\n",
        "---\n",
        "\n",
        "### **4. Сочетание графика работы и занятости**  \n",
        "- **Полный день + Полная занятость (35367 вакансий, 72%)** — самый популярный формат работы.  \n",
        "- **Удаленная работа + Полная занятость (7802 вакансии, около 16%)** — удаленная работа также довольно активно представлена и востребована.  \n",
        "- **Гибкий график и сменные режимы (1593 и 940 вакансий)**  встречаются реже.  \n",
        "- **Вахтовый метод (367 вакансий) и стажировки (569+116+64 = 749 вакансий)** — очень ограниченные предложения, но они есть.  \n",
        "- Количество вакансий на проектную работу **самое низкое** (от 1 до 141).\n",
        "\n",
        "Из всего этого можно сделать вывод о значительном преобладании спроса на **постоянную занятость** на рынке.\n",
        "\n",
        "---\n",
        "\n",
        "### **5. Требуемый опыт работы**  \n",
        "- Вакансии распределены следующим образом:  \n",
        "  - **Более 6 лет — 1337 (самая редкая категория, 2.7%)**  \n",
        "  - **Нет опыта — 7197 (около 14.6%)**  \n",
        "  - **От 3 до 6 лет — 14 511 (примерно 29.5%)**  \n",
        "  - **От 1 года до 3 лет — 26 152 (около 53.2%)**  \n",
        "\n",
        " **Это говорит о том, что:**  \n",
        "- Больше половины вакансий (53%) ориентированы на кандидатов с опытом работы **1-3 года**.  \n",
        "- 29% вакансий требуют **от 3 до 6 лет опыта работы**, что показывает востребованность **средне-квалифицированных специалистов**.  \n",
        "- Всего **2.7% вакансий требуют более 6 лет опыта**, что говорит о небольшом количестве позиций для высококвалифицированных специалистов.  \n",
        "- Доля вакансий **без опыта (14.6%)** говорит о наличии позиций для начинающих, но они занимают **небольшую часть рынка**.  \n",
        "\n",
        "---\n",
        "\n",
        "### **Ключевые  выводы по вакансиям**  \n",
        "* **Рабочие места сосредоточены в крупных городах, особенно в Москве и Санкт-Петербурге.**  \n",
        "* **Зарплата указывается примерно в 49% вакансий, в среднем от 71 000 до 110 000 ₽.**  \n",
        "* **Полная занятость и стандартный рабочий день — наиболее распространенный формат работы (72% вакансий).**  \n",
        "* **Удаленная работа занимает 16% рынка, гибкие и сменные графики встречаются реже.**  \n",
        "* **Более половины работодателей ищут кандидатов с опытом 1-3 года, вакансии для специалистов с опытом более 6 лет редки (2.7%).**  \n",
        "\n",
        "---"
      ]
    },
    {
      "cell_type": "markdown",
      "id": "7ea20ab6-04a7-40a0-adec-443a0e5a42c3",
      "metadata": {
        "id": "7ea20ab6-04a7-40a0-adec-443a0e5a42c3"
      },
      "source": [
        "# Юнит 5. Анализ работодателей"
      ]
    },
    {
      "cell_type": "markdown",
      "id": "968aed80-74ef-4ffb-b5bf-c65b84e9caea",
      "metadata": {
        "id": "968aed80-74ef-4ffb-b5bf-c65b84e9caea"
      },
      "source": [
        "1. Напишите запрос, который позволит узнать, какие работодатели находятся на первом и пятом месте по количеству вакансий."
      ]
    },
    {
      "cell_type": "code",
      "execution_count": 5,
      "id": "f2d62796-d400-4ec1-a675-88112739a50e",
      "metadata": {
        "id": "f2d62796-d400-4ec1-a675-88112739a50e"
      },
      "outputs": [
        {
          "name": "stdout",
          "output_type": "stream",
          "text": [
            "   employer_name  vacancy_count\n",
            "0         Яндекс           1933\n",
            "1     Ростелеком            491\n",
            "2       Тинькофф            444\n",
            "3           СБЕР            428\n",
            "4  Газпром нефть            331 \n",
            "\n",
            "На первом месте:\n",
            " employer_name    Яндекс\n",
            "vacancy_count      1933\n",
            "Name: 0, dtype: object \n",
            "\n",
            "На пятом месте:\n",
            " employer_name    Газпром нефть\n",
            "vacancy_count              331\n",
            "Name: 4, dtype: object\n"
          ]
        }
      ],
      "source": [
        "# текст запроса\n",
        "\n",
        "query = f'''\n",
        "-- Определяем работодателей с наибольшим количеством вакансий\n",
        "SELECT  \n",
        "    e.name AS employer_name,  -- Название работодателя\n",
        "    COUNT(*) AS vacancy_count  -- Количество вакансий данного работодателя\n",
        "FROM employers e\n",
        "JOIN vacancies v \n",
        "ON e.id = v.employer_id\n",
        "GROUP BY e.name  -- Группируем по названию работодателя\n",
        "ORDER BY vacancy_count DESC  -- Сортируем по убыванию количества вакансий\n",
        "LIMIT 5  -- Оставляем только топ-5 работодателей\n",
        "'''\n",
        "\n",
        "# Выполняем запрос и загружаем результат в DataFrame\n",
        "df = pd.read_sql_query(query, engine)\n",
        "print(df, \"\\n\")\n",
        "\n",
        "# Выводим первого и пятого работодателя из результата\n",
        "top_1 = df.iloc[0]  # Первый работодатель\n",
        "top_5 = df.iloc[4]  # Пятый работодатель\n",
        "\n",
        "\n",
        "print(\"На первом месте:\\n\", top_1,\"\\n\") \n",
        "\n",
        "print(\"На пятом месте:\\n\", top_5) \n",
        "\n"
      ]
    },
    {
      "cell_type": "markdown",
      "id": "7a085226",
      "metadata": {},
      "source": [
        "**Результат запроса**\n",
        "\n",
        "На первом месте по количеству размещенных вакансий находится компания \"Яндекс\".\n",
        "На пятом - компания \"Газпром нефть\"\n",
        "\n",
        "---"
      ]
    },
    {
      "cell_type": "markdown",
      "id": "68377cfc-b378-43dc-ab7d-1195abf2c515",
      "metadata": {
        "id": "68377cfc-b378-43dc-ab7d-1195abf2c515"
      },
      "source": [
        "2. Напишите запрос, который для каждого региона выведет количество работодателей и вакансий в нём.\n",
        "Среди регионов, в которых нет вакансий, найдите тот, в котором наибольшее количество работодателей. \n"
      ]
    },
    {
      "cell_type": "markdown",
      "id": "085210f0",
      "metadata": {},
      "source": [
        "**Коммнентарий к заданию 2.** \n",
        "\n",
        "В БД есть две категории работодателей:\n",
        "1. Работодатели, **зарегистрированные** в различных регионах (таблица `employers`), и\n",
        "2. Работодатели, **разместившие вакансии** в различных регионах (таблица `vacancies`)\n",
        "\n",
        "В связи с этим условие Задания 2 звучит неопределенно. \n",
        "- В первой части задания для каждого региона надо посчитать количество вакансий и, видимо, количество работодателей, **разместивших вакансии** в этом регионе. \n",
        "- Во второй части надо определить регион, в котором не размещено ни одной вакансии и **зарегистрировано** максимальное количество работодателей. \n",
        " \n",
        "Поэтому для  для выполнения задания нужны два отдельных запроса. Так как, если делать один запрос, то нет никакого смысла **считать количество вакансий** в регионе (первая часть), в котором их не должно быть изначально (вторая часть). Это количество для каждого региона будет равно нулю. "
      ]
    },
    {
      "cell_type": "code",
      "execution_count": 9,
      "id": "92fffd35",
      "metadata": {},
      "outputs": [
        {
          "name": "stdout",
          "output_type": "stream",
          "text": [
            "Количество работодателей и вакансий по регионам\n"
          ]
        },
        {
          "data": {
            "text/html": [
              "<div>\n",
              "<style scoped>\n",
              "    .dataframe tbody tr th:only-of-type {\n",
              "        vertical-align: middle;\n",
              "    }\n",
              "\n",
              "    .dataframe tbody tr th {\n",
              "        vertical-align: top;\n",
              "    }\n",
              "\n",
              "    .dataframe thead th {\n",
              "        text-align: right;\n",
              "    }\n",
              "</style>\n",
              "<table border=\"1\" class=\"dataframe\">\n",
              "  <thead>\n",
              "    <tr style=\"text-align: right;\">\n",
              "      <th></th>\n",
              "      <th>area_name</th>\n",
              "      <th>count_employers</th>\n",
              "      <th>count_vacancies</th>\n",
              "    </tr>\n",
              "  </thead>\n",
              "  <tbody>\n",
              "    <tr>\n",
              "      <th>0</th>\n",
              "      <td>Москва</td>\n",
              "      <td>2320</td>\n",
              "      <td>5333</td>\n",
              "    </tr>\n",
              "    <tr>\n",
              "      <th>1</th>\n",
              "      <td>Санкт-Петербург</td>\n",
              "      <td>1451</td>\n",
              "      <td>2851</td>\n",
              "    </tr>\n",
              "    <tr>\n",
              "      <th>2</th>\n",
              "      <td>Минск</td>\n",
              "      <td>851</td>\n",
              "      <td>2112</td>\n",
              "    </tr>\n",
              "    <tr>\n",
              "      <th>3</th>\n",
              "      <td>Новосибирск</td>\n",
              "      <td>802</td>\n",
              "      <td>2006</td>\n",
              "    </tr>\n",
              "    <tr>\n",
              "      <th>4</th>\n",
              "      <td>Алматы</td>\n",
              "      <td>798</td>\n",
              "      <td>1892</td>\n",
              "    </tr>\n",
              "    <tr>\n",
              "      <th>...</th>\n",
              "      <td>...</td>\n",
              "      <td>...</td>\n",
              "      <td>...</td>\n",
              "    </tr>\n",
              "    <tr>\n",
              "      <th>764</th>\n",
              "      <td>Шахтерск (Сахалинская область)</td>\n",
              "      <td>1</td>\n",
              "      <td>1</td>\n",
              "    </tr>\n",
              "    <tr>\n",
              "      <th>765</th>\n",
              "      <td>Пестово</td>\n",
              "      <td>1</td>\n",
              "      <td>1</td>\n",
              "    </tr>\n",
              "    <tr>\n",
              "      <th>766</th>\n",
              "      <td>Пересвет</td>\n",
              "      <td>1</td>\n",
              "      <td>1</td>\n",
              "    </tr>\n",
              "    <tr>\n",
              "      <th>767</th>\n",
              "      <td>Первомайское (Ленинградская область)</td>\n",
              "      <td>1</td>\n",
              "      <td>1</td>\n",
              "    </tr>\n",
              "    <tr>\n",
              "      <th>768</th>\n",
              "      <td>Себеж</td>\n",
              "      <td>1</td>\n",
              "      <td>1</td>\n",
              "    </tr>\n",
              "  </tbody>\n",
              "</table>\n",
              "<p>769 rows × 3 columns</p>\n",
              "</div>"
            ],
            "text/plain": [
              "                                area_name  count_employers  count_vacancies\n",
              "0                                  Москва             2320             5333\n",
              "1                         Санкт-Петербург             1451             2851\n",
              "2                                   Минск              851             2112\n",
              "3                             Новосибирск              802             2006\n",
              "4                                  Алматы              798             1892\n",
              "..                                    ...              ...              ...\n",
              "764        Шахтерск (Сахалинская область)                1                1\n",
              "765                               Пестово                1                1\n",
              "766                              Пересвет                1                1\n",
              "767  Первомайское (Ленинградская область)                1                1\n",
              "768                                 Себеж                1                1\n",
              "\n",
              "[769 rows x 3 columns]"
            ]
          },
          "metadata": {},
          "output_type": "display_data"
        },
        {
          "name": "stdout",
          "output_type": "stream",
          "text": [
            "Количество работодателей в регионах без вакансий\n"
          ]
        },
        {
          "data": {
            "text/html": [
              "<div>\n",
              "<style scoped>\n",
              "    .dataframe tbody tr th:only-of-type {\n",
              "        vertical-align: middle;\n",
              "    }\n",
              "\n",
              "    .dataframe tbody tr th {\n",
              "        vertical-align: top;\n",
              "    }\n",
              "\n",
              "    .dataframe thead th {\n",
              "        text-align: right;\n",
              "    }\n",
              "</style>\n",
              "<table border=\"1\" class=\"dataframe\">\n",
              "  <thead>\n",
              "    <tr style=\"text-align: right;\">\n",
              "      <th></th>\n",
              "      <th>area_name</th>\n",
              "      <th>count_employers</th>\n",
              "    </tr>\n",
              "  </thead>\n",
              "  <tbody>\n",
              "    <tr>\n",
              "      <th>0</th>\n",
              "      <td>Россия</td>\n",
              "      <td>410</td>\n",
              "    </tr>\n",
              "    <tr>\n",
              "      <th>1</th>\n",
              "      <td>Казахстан</td>\n",
              "      <td>207</td>\n",
              "    </tr>\n",
              "    <tr>\n",
              "      <th>2</th>\n",
              "      <td>Московская область</td>\n",
              "      <td>75</td>\n",
              "    </tr>\n",
              "    <tr>\n",
              "      <th>3</th>\n",
              "      <td>Краснодарский край</td>\n",
              "      <td>19</td>\n",
              "    </tr>\n",
              "    <tr>\n",
              "      <th>4</th>\n",
              "      <td>Беларусь</td>\n",
              "      <td>18</td>\n",
              "    </tr>\n",
              "    <tr>\n",
              "      <th>...</th>\n",
              "      <td>...</td>\n",
              "      <td>...</td>\n",
              "    </tr>\n",
              "    <tr>\n",
              "      <th>588</th>\n",
              "      <td>Кувандык</td>\n",
              "      <td>0</td>\n",
              "    </tr>\n",
              "    <tr>\n",
              "      <th>589</th>\n",
              "      <td>Куйбышев</td>\n",
              "      <td>0</td>\n",
              "    </tr>\n",
              "    <tr>\n",
              "      <th>590</th>\n",
              "      <td>Куйбышево (Ростовская область)</td>\n",
              "      <td>0</td>\n",
              "    </tr>\n",
              "    <tr>\n",
              "      <th>591</th>\n",
              "      <td>Култаево</td>\n",
              "      <td>0</td>\n",
              "    </tr>\n",
              "    <tr>\n",
              "      <th>592</th>\n",
              "      <td>Кульсары</td>\n",
              "      <td>0</td>\n",
              "    </tr>\n",
              "  </tbody>\n",
              "</table>\n",
              "<p>593 rows × 2 columns</p>\n",
              "</div>"
            ],
            "text/plain": [
              "                          area_name  count_employers\n",
              "0                            Россия              410\n",
              "1                         Казахстан              207\n",
              "2                Московская область               75\n",
              "3                Краснодарский край               19\n",
              "4                          Беларусь               18\n",
              "..                              ...              ...\n",
              "588                        Кувандык                0\n",
              "589                        Куйбышев                0\n",
              "590  Куйбышево (Ростовская область)                0\n",
              "591                        Култаево                0\n",
              "592                        Кульсары                0\n",
              "\n",
              "[593 rows x 2 columns]"
            ]
          },
          "metadata": {},
          "output_type": "display_data"
        },
        {
          "name": "stdout",
          "output_type": "stream",
          "text": [
            "Регион без вакансий, в котором зарегистрировано наибольшее количество работодателей: Россия\n",
            "Количество работодателей 410\n"
          ]
        }
      ],
      "source": [
        "# текст запроса\n",
        "\n",
        "query_2_1 = f''' -- Запрос 1: Подсчет количества работодателей и вакансий в каждом регионе\n",
        "    SELECT  \n",
        "        a.name AS area_name,               -- Название региона        \n",
        "        COUNT(DISTINCT v.employer_id) AS count_employers,  -- Количество уникальных работодателей, разместивших вакансии в регионе\n",
        "        COUNT(v.id) AS count_vacancies     -- Количество вакансий\n",
        "    FROM areas a\n",
        "    JOIN vacancies v                  \n",
        "    ON a.id = v.area_id\n",
        "    GROUP BY a.name\n",
        "    ORDER BY  count_vacancies DESC\n",
        "'''\n",
        "\n",
        "query_2_2 = f'''-- Запрос 2: Поиск регионов без вакансий и подсчет числа работодателей в них\n",
        "    SELECT  \n",
        "        a.name AS area_name,  -- Название региона\n",
        "        count(distinct e.id) AS count_employers  -- Количество работодателей, зарегистрированных в регионе\n",
        "    FROM areas a                               \n",
        "    LEFT JOIN vacancies v ON a.id = v.area_id -- Используем LEFT JOIN, чтобы включить регионы без вакансий\n",
        "    LEFT JOIN employers e ON a.id = e.area -- Соединяем с таблицей работодателей\n",
        "    WHERE v.id IS NULL  -- Оставляем только регионы, в которых нет вакансий\n",
        "    GROUP BY area_name  \n",
        "    ORDER BY count_employers DESC;  -- Сортируем по убыванию количества работодателей\n",
        "'''\n",
        "\n",
        "\n",
        "\n",
        "# Выполняем запросы и загружаем результат в DataFrame\n",
        "df = pd.read_sql_query(query_2_1, engine)\n",
        "print(f'Количество работодателей и вакансий по регионам')\n",
        "display(df)\n",
        "\n",
        "df = pd.read_sql_query(query_2_2, engine)\n",
        "print(f'Количество работодателей в регионах без вакансий')\n",
        "display(df)\n",
        "\n",
        "print(f'Регион без вакансий, в котором зарегистрировано наибольшее количество работодателей: {df.iloc[0,0]}')\n",
        "print(f'Количество работодателей {df.iloc[0,1]}')\n",
        "\n"
      ]
    },
    {
      "cell_type": "markdown",
      "id": "b1fcc99e",
      "metadata": {},
      "source": [
        "**Результат запроса**\n",
        "\n",
        "Количество работодателей и вакансий в каждом регионе представлено в результирующей таблице, полученной по запросу query_2_1.\n",
        "\n",
        "Название региона, в котором зарегистрировано наибольшее количество работодателей и не размещено ни одной вакансии, - `Россия`.\n",
        "\n",
        "---"
      ]
    },
    {
      "cell_type": "markdown",
      "id": "f2fe0acb-ab1a-4e15-9326-2560e22d73c1",
      "metadata": {
        "id": "f2fe0acb-ab1a-4e15-9326-2560e22d73c1"
      },
      "source": [
        "3. Для каждого работодателя посчитайте количество регионов, в которых он публикует свои вакансии. Отсортируйте результат по убыванию количества.\n"
      ]
    },
    {
      "cell_type": "code",
      "execution_count": 13,
      "id": "6271f8ad-bd2e-4196-ae4a-5b39c4c1010e",
      "metadata": {
        "id": "6271f8ad-bd2e-4196-ae4a-5b39c4c1010e"
      },
      "outputs": [
        {
          "data": {
            "text/html": [
              "<div>\n",
              "<style scoped>\n",
              "    .dataframe tbody tr th:only-of-type {\n",
              "        vertical-align: middle;\n",
              "    }\n",
              "\n",
              "    .dataframe tbody tr th {\n",
              "        vertical-align: top;\n",
              "    }\n",
              "\n",
              "    .dataframe thead th {\n",
              "        text-align: right;\n",
              "    }\n",
              "</style>\n",
              "<table border=\"1\" class=\"dataframe\">\n",
              "  <thead>\n",
              "    <tr style=\"text-align: right;\">\n",
              "      <th></th>\n",
              "      <th>name</th>\n",
              "      <th>region_count</th>\n",
              "    </tr>\n",
              "  </thead>\n",
              "  <tbody>\n",
              "    <tr>\n",
              "      <th>0</th>\n",
              "      <td>Яндекс</td>\n",
              "      <td>181</td>\n",
              "    </tr>\n",
              "    <tr>\n",
              "      <th>1</th>\n",
              "      <td>Ростелеком</td>\n",
              "      <td>152</td>\n",
              "    </tr>\n",
              "    <tr>\n",
              "      <th>2</th>\n",
              "      <td>Спецремонт</td>\n",
              "      <td>116</td>\n",
              "    </tr>\n",
              "    <tr>\n",
              "      <th>3</th>\n",
              "      <td>Поляков Денис Иванович</td>\n",
              "      <td>88</td>\n",
              "    </tr>\n",
              "    <tr>\n",
              "      <th>4</th>\n",
              "      <td>ООО ЕФИН</td>\n",
              "      <td>71</td>\n",
              "    </tr>\n",
              "    <tr>\n",
              "      <th>...</th>\n",
              "      <td>...</td>\n",
              "      <td>...</td>\n",
              "    </tr>\n",
              "    <tr>\n",
              "      <th>14761</th>\n",
              "      <td>UniSol</td>\n",
              "      <td>1</td>\n",
              "    </tr>\n",
              "    <tr>\n",
              "      <th>14762</th>\n",
              "      <td>UNISTORY LLC</td>\n",
              "      <td>1</td>\n",
              "    </tr>\n",
              "    <tr>\n",
              "      <th>14763</th>\n",
              "      <td>UNIT6</td>\n",
              "      <td>1</td>\n",
              "    </tr>\n",
              "    <tr>\n",
              "      <th>14764</th>\n",
              "      <td>United Distribution</td>\n",
              "      <td>1</td>\n",
              "    </tr>\n",
              "    <tr>\n",
              "      <th>14765</th>\n",
              "      <td>UNITEL LLC</td>\n",
              "      <td>1</td>\n",
              "    </tr>\n",
              "  </tbody>\n",
              "</table>\n",
              "<p>14766 rows × 2 columns</p>\n",
              "</div>"
            ],
            "text/plain": [
              "                         name  region_count\n",
              "0                      Яндекс           181\n",
              "1                  Ростелеком           152\n",
              "2                  Спецремонт           116\n",
              "3      Поляков Денис Иванович            88\n",
              "4                   ООО ЕФИН             71\n",
              "...                       ...           ...\n",
              "14761                  UniSol             1\n",
              "14762            UNISTORY LLC             1\n",
              "14763                   UNIT6             1\n",
              "14764     United Distribution             1\n",
              "14765              UNITEL LLC             1\n",
              "\n",
              "[14766 rows x 2 columns]"
            ]
          },
          "execution_count": 13,
          "metadata": {},
          "output_type": "execute_result"
        }
      ],
      "source": [
        "# текст запроса\n",
        "\n",
        "# SQL-запрос для подсчёта количества регионов, в которых работодатель публикует вакансии\n",
        "query = \"\"\"\n",
        "    SELECT e.name,  -- Название работодателя\n",
        "           COUNT(DISTINCT v.area_id) AS region_count  -- Количество уникальных регионов\n",
        "    FROM employers e\n",
        "    JOIN vacancies v ON e.id = v.employer_id  -- Связываем таблицы по ID работодателя\n",
        "    GROUP BY e.name  -- Группируем по названию работодателя\n",
        "    ORDER BY region_count DESC  -- Сортируем по убыванию количества регионов\n",
        "\"\"\"\n",
        "\n",
        "# Выполняем запрос и загружаем результат в DataFrame\n",
        "df = pd.read_sql(query, engine)\n",
        "\n",
        "# Вывод результата\n",
        "df\n"
      ]
    },
    {
      "cell_type": "markdown",
      "id": "eab2206d-d95b-468b-8e5f-34381abf0ce7",
      "metadata": {
        "id": "eab2206d-d95b-468b-8e5f-34381abf0ce7"
      },
      "source": [
        "4. Напишите запрос для подсчёта количества работодателей, у которых не указана сфера деятельности. "
      ]
    },
    {
      "cell_type": "code",
      "execution_count": 14,
      "id": "80defb23-bfb1-4a18-8be6-bf36aa7165d5",
      "metadata": {
        "id": "80defb23-bfb1-4a18-8be6-bf36aa7165d5"
      },
      "outputs": [
        {
          "data": {
            "text/html": [
              "<div>\n",
              "<style scoped>\n",
              "    .dataframe tbody tr th:only-of-type {\n",
              "        vertical-align: middle;\n",
              "    }\n",
              "\n",
              "    .dataframe tbody tr th {\n",
              "        vertical-align: top;\n",
              "    }\n",
              "\n",
              "    .dataframe thead th {\n",
              "        text-align: right;\n",
              "    }\n",
              "</style>\n",
              "<table border=\"1\" class=\"dataframe\">\n",
              "  <thead>\n",
              "    <tr style=\"text-align: right;\">\n",
              "      <th></th>\n",
              "      <th>employer_count</th>\n",
              "    </tr>\n",
              "  </thead>\n",
              "  <tbody>\n",
              "    <tr>\n",
              "      <th>0</th>\n",
              "      <td>8419</td>\n",
              "    </tr>\n",
              "  </tbody>\n",
              "</table>\n",
              "</div>"
            ],
            "text/plain": [
              "   employer_count\n",
              "0            8419"
            ]
          },
          "execution_count": 14,
          "metadata": {},
          "output_type": "execute_result"
        }
      ],
      "source": [
        "# текст запроса\n",
        "\n",
        "# SQL-запрос для подсчёта количества работодателей, у которых не указана сфера деятельности\n",
        "query = \"\"\"\n",
        "    SELECT COUNT(e.id) AS employer_count  -- Подсчитываем количество таких работодателей\n",
        "    FROM employers e\n",
        "    LEFT JOIN employers_industries e_i\n",
        "    ON e.id = e_i.employer_id\n",
        "    WHERE e_i.industry_id IS NULL  -- Оставляем только тех, у кого нет сферы деятельности\n",
        "\"\"\"\n",
        "\n",
        "# Выполняем запрос и загружаем результат в DataFrame\n",
        "df = pd.read_sql(query, engine)\n",
        "\n",
        "# Вывод результата\n",
        "df\n"
      ]
    },
    {
      "cell_type": "markdown",
      "id": "0112af31-f6b0-4e3b-82ab-71296e752e5e",
      "metadata": {
        "id": "0112af31-f6b0-4e3b-82ab-71296e752e5e"
      },
      "source": [
        "5. Напишите запрос, чтобы узнать название компании, находящейся на третьем месте в алфавитном списке (по названию) компаний, у которых указано четыре сферы деятельности. "
      ]
    },
    {
      "cell_type": "code",
      "execution_count": 4,
      "id": "973b0cfc-a972-470a-8b4a-68744ef220c4",
      "metadata": {
        "id": "973b0cfc-a972-470a-8b4a-68744ef220c4"
      },
      "outputs": [
        {
          "data": {
            "text/html": [
              "<div>\n",
              "<style scoped>\n",
              "    .dataframe tbody tr th:only-of-type {\n",
              "        vertical-align: middle;\n",
              "    }\n",
              "\n",
              "    .dataframe tbody tr th {\n",
              "        vertical-align: top;\n",
              "    }\n",
              "\n",
              "    .dataframe thead th {\n",
              "        text-align: right;\n",
              "    }\n",
              "</style>\n",
              "<table border=\"1\" class=\"dataframe\">\n",
              "  <thead>\n",
              "    <tr style=\"text-align: right;\">\n",
              "      <th></th>\n",
              "      <th>name</th>\n",
              "    </tr>\n",
              "  </thead>\n",
              "  <tbody>\n",
              "    <tr>\n",
              "      <th>0</th>\n",
              "      <td>2ГИС</td>\n",
              "    </tr>\n",
              "  </tbody>\n",
              "</table>\n",
              "</div>"
            ],
            "text/plain": [
              "   name\n",
              "0  2ГИС"
            ]
          },
          "execution_count": 4,
          "metadata": {},
          "output_type": "execute_result"
        }
      ],
      "source": [
        "# текст запроса\n",
        "\n",
        "# SQL-запрос для получения названия компании, находящейся на третьем месте\n",
        "# в алфавитном списке компаний, у которых указано четыре сферы деятельности\n",
        "query = \"\"\"\n",
        "    SELECT e.name  -- Название компании\n",
        "    FROM employers e\n",
        "    JOIN employers_industries e_i ON e.id = e_i.employer_id  -- Связываем таблицы\n",
        "    GROUP BY e.name  -- Группируем по названию компании\n",
        "    HAVING COUNT(e_i.industry_id) = 4  -- Оставляем только компании с четырьмя сферами\n",
        "    ORDER BY e.name  -- Сортируем по алфавиту\n",
        "    LIMIT 1 OFFSET 2  -- Пропускаем две записи и берём третью\n",
        "\"\"\"\n",
        "\n",
        "# Выполняем запрос и загружаем результат в DataFrame\n",
        "df = pd.read_sql(query, engine)\n",
        "\n",
        "# Вывод результата\n",
        "df"
      ]
    },
    {
      "cell_type": "markdown",
      "id": "3bfcfdaf-755d-4d2b-8ed8-326201dc07ab",
      "metadata": {
        "id": "3bfcfdaf-755d-4d2b-8ed8-326201dc07ab"
      },
      "source": [
        "6. С помощью запроса выясните, у какого количества работодателей в качестве сферы деятельности указана Разработка программного обеспечения.\n"
      ]
    },
    {
      "cell_type": "code",
      "execution_count": 5,
      "id": "ad3f270f-2991-47eb-929b-e8f88a55b0d1",
      "metadata": {
        "id": "ad3f270f-2991-47eb-929b-e8f88a55b0d1"
      },
      "outputs": [
        {
          "data": {
            "text/html": [
              "<div>\n",
              "<style scoped>\n",
              "    .dataframe tbody tr th:only-of-type {\n",
              "        vertical-align: middle;\n",
              "    }\n",
              "\n",
              "    .dataframe tbody tr th {\n",
              "        vertical-align: top;\n",
              "    }\n",
              "\n",
              "    .dataframe thead th {\n",
              "        text-align: right;\n",
              "    }\n",
              "</style>\n",
              "<table border=\"1\" class=\"dataframe\">\n",
              "  <thead>\n",
              "    <tr style=\"text-align: right;\">\n",
              "      <th></th>\n",
              "      <th>employer_count</th>\n",
              "    </tr>\n",
              "  </thead>\n",
              "  <tbody>\n",
              "    <tr>\n",
              "      <th>0</th>\n",
              "      <td>3553</td>\n",
              "    </tr>\n",
              "  </tbody>\n",
              "</table>\n",
              "</div>"
            ],
            "text/plain": [
              "   employer_count\n",
              "0            3553"
            ]
          },
          "execution_count": 5,
          "metadata": {},
          "output_type": "execute_result"
        }
      ],
      "source": [
        "# текст запроса\n",
        "\n",
        "# SQL-запрос для определения количества работодателей, \n",
        "# у которых указана сфера \"Разработка программного обеспечения\"\n",
        "query = \"\"\"\n",
        "    SELECT COUNT(*) AS employer_count  -- Подсчитываем количество таких работодателей\n",
        "    FROM industries i\n",
        "    JOIN employers_industries ei ON i.id = ei.industry_id  -- Связываем таблицы по ID сферы\n",
        "    WHERE i.name = 'Разработка программного обеспечения'  -- Фильтруем по названию сферы\n",
        "\"\"\"\n",
        "\n",
        "# Выполняем запрос и загружаем результат в DataFrame\n",
        "df = pd.read_sql(query, engine)\n",
        "\n",
        "# Вывод результата\n",
        "df\n"
      ]
    },
    {
      "cell_type": "markdown",
      "id": "7b02bb86-0546-40fb-94a4-242f050a5c57",
      "metadata": {
        "id": "7b02bb86-0546-40fb-94a4-242f050a5c57"
      },
      "source": [
        "7. Для компании «Яндекс» выведите список регионов-миллионников, в которых представлены вакансии компании, вместе с количеством вакансий в этих регионах. Также добавьте строку Total с общим количеством вакансий компании. Результат отсортируйте по возрастанию количества.\n",
        "\n",
        "Список городов-милионников надо взять [отсюда](https://ru.wikipedia.org/wiki/%D0%93%D0%BE%D1%80%D0%BE%D0%B4%D0%B0-%D0%BC%D0%B8%D0%BB%D0%BB%D0%B8%D0%BE%D0%BD%D0%B5%D1%80%D1%8B_%D0%A0%D0%BE%D1%81%D1%81%D0%B8%D0%B8). \n",
        "\n",
        "Если возникнут трудности с этим задание посмотрите материалы модуля  PYTHON-17. Как получать данные из веб-источников и API. "
      ]
    },
    {
      "cell_type": "code",
      "execution_count": 10,
      "id": "ZdfrL6gIs1Pn",
      "metadata": {
        "id": "ZdfrL6gIs1Pn"
      },
      "outputs": [
        {
          "name": "stdout",
          "output_type": "stream",
          "text": [
            "['Москва', 'Санкт-Петербург', 'Новосибирск', 'Екатеринбург', 'Казань', 'Красноярск', 'Нижний Новгород', 'Челябинск', 'Уфа', 'Самара', 'Ростов-на-Дону', 'Краснодар', 'Омск', 'Воронеж', 'Пермь', 'Волгоград']\n"
          ]
        }
      ],
      "source": [
        "# код для получения списка городов-милионников\n",
        "\n",
        "import requests\n",
        "from bs4 import BeautifulSoup\n",
        "# URL страницы\n",
        "url = \"https://ru.wikipedia.org/wiki/Города-миллионеры_России\"\n",
        "\n",
        "# Добавляем заголовки, чтобы имитировать реальный браузер\n",
        "headers = {\n",
        "    \"User-Agent\": \"Mozilla/5.0 (Windows NT 10.0; Win64; x64) AppleWebKit/537.36 (KHTML, like Gecko) Chrome/120.0.0.0 Safari/537.36\"\n",
        "}\n",
        "\n",
        "# Загружаем страницу\n",
        "response = requests.get(url, headers=headers)\n",
        "page = BeautifulSoup(response.text, \"html.parser\")\n",
        "\n",
        "\n",
        "# Находим таблицу с названиями городов по классам 'standard sortable'\n",
        "table = page.find(\"table\", class_=\"standard sortable\")\n",
        "\n",
        "# Извлекаем все строки таблицы, пропуская шапку\n",
        "rows = table.find_all(\"tr\")[1:]  \n",
        "\n",
        "# Извлекаем названия городов \n",
        "# (вторая ячейка в каждой строке содержит тег ссылки с названием города)\n",
        "city_names = [\n",
        "    row.find_all(\"td\")[1].find(\"a\").text\n",
        "    for row in rows    \n",
        "]\n",
        "# Выводим список городов\n",
        "print(city_names)\n",
        "\n"
      ]
    },
    {
      "cell_type": "code",
      "execution_count": 15,
      "id": "5a0e32a4-e68a-4365-8a39-2fe24c542c36",
      "metadata": {
        "id": "5a0e32a4-e68a-4365-8a39-2fe24c542c36"
      },
      "outputs": [
        {
          "data": {
            "text/html": [
              "<div>\n",
              "<style scoped>\n",
              "    .dataframe tbody tr th:only-of-type {\n",
              "        vertical-align: middle;\n",
              "    }\n",
              "\n",
              "    .dataframe tbody tr th {\n",
              "        vertical-align: top;\n",
              "    }\n",
              "\n",
              "    .dataframe thead th {\n",
              "        text-align: right;\n",
              "    }\n",
              "</style>\n",
              "<table border=\"1\" class=\"dataframe\">\n",
              "  <thead>\n",
              "    <tr style=\"text-align: right;\">\n",
              "      <th></th>\n",
              "      <th>region_name</th>\n",
              "      <th>vacancy_count</th>\n",
              "    </tr>\n",
              "  </thead>\n",
              "  <tbody>\n",
              "    <tr>\n",
              "      <th>0</th>\n",
              "      <td>Москва</td>\n",
              "      <td>54.0</td>\n",
              "    </tr>\n",
              "    <tr>\n",
              "      <th>1</th>\n",
              "      <td>Санкт-Петербург</td>\n",
              "      <td>42.0</td>\n",
              "    </tr>\n",
              "    <tr>\n",
              "      <th>2</th>\n",
              "      <td>Екатеринбург</td>\n",
              "      <td>39.0</td>\n",
              "    </tr>\n",
              "    <tr>\n",
              "      <th>3</th>\n",
              "      <td>Нижний Новгород</td>\n",
              "      <td>36.0</td>\n",
              "    </tr>\n",
              "    <tr>\n",
              "      <th>4</th>\n",
              "      <td>Новосибирск</td>\n",
              "      <td>35.0</td>\n",
              "    </tr>\n",
              "    <tr>\n",
              "      <th>5</th>\n",
              "      <td>Воронеж</td>\n",
              "      <td>32.0</td>\n",
              "    </tr>\n",
              "    <tr>\n",
              "      <th>6</th>\n",
              "      <td>Краснодар</td>\n",
              "      <td>30.0</td>\n",
              "    </tr>\n",
              "    <tr>\n",
              "      <th>7</th>\n",
              "      <td>Самара</td>\n",
              "      <td>26.0</td>\n",
              "    </tr>\n",
              "    <tr>\n",
              "      <th>8</th>\n",
              "      <td>Уфа</td>\n",
              "      <td>26.0</td>\n",
              "    </tr>\n",
              "    <tr>\n",
              "      <th>9</th>\n",
              "      <td>Казань</td>\n",
              "      <td>25.0</td>\n",
              "    </tr>\n",
              "    <tr>\n",
              "      <th>10</th>\n",
              "      <td>Пермь</td>\n",
              "      <td>25.0</td>\n",
              "    </tr>\n",
              "    <tr>\n",
              "      <th>11</th>\n",
              "      <td>Ростов-на-Дону</td>\n",
              "      <td>25.0</td>\n",
              "    </tr>\n",
              "    <tr>\n",
              "      <th>12</th>\n",
              "      <td>Волгоград</td>\n",
              "      <td>24.0</td>\n",
              "    </tr>\n",
              "    <tr>\n",
              "      <th>13</th>\n",
              "      <td>Красноярск</td>\n",
              "      <td>23.0</td>\n",
              "    </tr>\n",
              "    <tr>\n",
              "      <th>14</th>\n",
              "      <td>Челябинск</td>\n",
              "      <td>22.0</td>\n",
              "    </tr>\n",
              "    <tr>\n",
              "      <th>15</th>\n",
              "      <td>Омск</td>\n",
              "      <td>21.0</td>\n",
              "    </tr>\n",
              "    <tr>\n",
              "      <th>16</th>\n",
              "      <td>Total</td>\n",
              "      <td>485.0</td>\n",
              "    </tr>\n",
              "  </tbody>\n",
              "</table>\n",
              "</div>"
            ],
            "text/plain": [
              "        region_name  vacancy_count\n",
              "0            Москва           54.0\n",
              "1   Санкт-Петербург           42.0\n",
              "2      Екатеринбург           39.0\n",
              "3   Нижний Новгород           36.0\n",
              "4       Новосибирск           35.0\n",
              "5           Воронеж           32.0\n",
              "6         Краснодар           30.0\n",
              "7            Самара           26.0\n",
              "8               Уфа           26.0\n",
              "9            Казань           25.0\n",
              "10            Пермь           25.0\n",
              "11   Ростов-на-Дону           25.0\n",
              "12        Волгоград           24.0\n",
              "13       Красноярск           23.0\n",
              "14        Челябинск           22.0\n",
              "15             Омск           21.0\n",
              "16            Total          485.0"
            ]
          },
          "execution_count": 15,
          "metadata": {},
          "output_type": "execute_result"
        }
      ],
      "source": [
        "# текст запроса\n",
        "\n",
        "# Преобразуем список городов-миллионников в строку с кавычками для SQL запроса\n",
        "city_names_str = \", \".join(f\"'{city}'\" for city in city_names)\n",
        "\n",
        "# SQL-запрос для получения списка регионов-миллионников, в которых представлены вакансии Яндекса\n",
        "query = f\"\"\"\n",
        "WITH yandex_vacancies AS (\n",
        "    SELECT a.name AS region_name, COUNT(*) AS vacancy_count\n",
        "    FROM areas a\n",
        "    JOIN vacancies v ON a.id = v.area_id\n",
        "    JOIN employers e ON v.employer_id = e.id\n",
        "    WHERE e.name = 'Яндекс' \n",
        "      AND a.name IN ({city_names_str})  -- Фильтр по городам-миллионникам\n",
        "    GROUP BY a.name  -- Группируем по названию региона\n",
        ")\n",
        "-- Получаем список регионов и количество вакансий Яндекс в них, \n",
        "-- сортируем по возрастанию\n",
        "(SELECT region_name, vacancy_count FROM yandex_vacancies\n",
        "ORDER BY vacancy_count DESC)\n",
        "UNION ALL\n",
        "-- Добавляем строку Total с общим количеством вакансий\n",
        "SELECT 'Total', SUM(vacancy_count) FROM yandex_vacancies;\n",
        "\"\"\"\n",
        "\n",
        "# Выполняем запрос и загружаем результат в DataFrame\n",
        "df = pd.read_sql(query, engine)\n",
        "\n",
        "# Вывод результата\n",
        "df\n"
      ]
    },
    {
      "cell_type": "markdown",
      "id": "b8a8303d",
      "metadata": {},
      "source": [
        "---\n",
        "\n",
        "## **Вывод по анализу работодателей и вакансий**  \n",
        "\n",
        "### **1. Количество вакансий у работодателей**  \n",
        "Лидером по количеству вакансий является **Яндекс** (1933 вакансии), за ним следуют **Ростелеком** (491), **Тинькофф** (444), **СБЕР** (428) и **Газпром нефть** (331). Это свидетельствует о высокой потребности в кадрах в крупнейших российских компаниях, особенно в IT-секторе и банковской сфере.  \n",
        "\n",
        "### **2. Распределение работодателей и вакансий по регионам**  \n",
        "\n",
        "Наибольшее количество вакансий и работодателей сосредоточено в крупных городах:  \n",
        "- **Москва** (2320 работодателей, 5333 вакансии)  \n",
        "- **Санкт-Петербург** (1451 работодателей, 2851 вакансии)  \n",
        "- **Минск** (851 работодателей, 2112 вакансии)  \n",
        "- **Новосибирск** (802 работодателей, 2006 вакансии)  \n",
        "\n",
        "Однако существуют регионы, где зарегистрировано много работодателей, но нет ни одной вакансии. Например, в **России** без привязки к конкретному региону зарегистрировано 410 работодателей, в **Казахстане** – 207, а в **Московской области** – 75.  \n",
        "\n",
        "### **3. География деятельности работодателей**  \n",
        "Наибольший охват по количеству регионов, в которых размещены вакансии, имеет **Яндекс** (181 регион), далее идут **Ростелеком** (152) и **Спецремонт** (116). Это говорит о тенденции к территориальному расширению деятельности этих компаний и растущую, в связи с этим, потребность в специалистах по всей стране.  \n",
        "\n",
        "### **4. Работодатели без указанной сферы деятельности**  \n",
        "У **8419 работодателей** отсутствует информация о сфере деятельности. Это может быть связано с недостаточностью предоставленных данных или спецификой бизнеса некоторых компаний.  \n",
        "\n",
        "### **5. Работодатели с четырьмя сферами деятельности**  \n",
        "На третьем месте в алфавитном списке среди компаний, у которых указано **четыре сферы деятельности**, находится **2ГИС**.  \n",
        "\n",
        "### **6. Количество работодателей в сфере \"Разработка программного обеспечения\"**  \n",
        "Сфера **\"Разработка ПО\"** представлена **3553 работодателями**, что подтверждает высокий спрос на IT-специалистов.  \n",
        "\n",
        "### **7. Вакансии Яндекса в городах-миллионниках**  \n",
        "Компания **Яндекс** активно размещает вакансии в крупнейших городах России. Больше всего вакансий в:  \n",
        "- **Москве** (54 вакансии),  \n",
        "- **Санкт-Петербурге** (42),  \n",
        "- **Екатеринбурге** (39).  \n",
        "\n",
        "Общее количество вакансий Яндекса в городах-миллионниках составило **485**. \n",
        "\n",
        "---"
      ]
    },
    {
      "cell_type": "markdown",
      "id": "b1ef156a-efcb-49ce-bb23-90763e7f35b2",
      "metadata": {
        "id": "b1ef156a-efcb-49ce-bb23-90763e7f35b2",
        "tags": []
      },
      "source": [
        "# Юнит 6. Предметный анализ"
      ]
    },
    {
      "cell_type": "markdown",
      "id": "b9cd50a0-992d-4988-8463-2b2b1c4629b4",
      "metadata": {
        "id": "b9cd50a0-992d-4988-8463-2b2b1c4629b4"
      },
      "source": [
        "1. Сколько вакансий имеет отношение к данным?\n",
        "\n",
        "Считаем, что вакансия имеет отношение к данным, если в её названии содержатся слова 'data' или 'данн'.\n",
        "\n",
        "*Подсказка: Обратите внимание, что названия вакансий могут быть написаны в любом регистре.* \n"
      ]
    },
    {
      "cell_type": "code",
      "execution_count": 16,
      "id": "54ab0e50-c0f1-47cc-a54b-bc5c8bc363f9",
      "metadata": {
        "id": "54ab0e50-c0f1-47cc-a54b-bc5c8bc363f9"
      },
      "outputs": [
        {
          "data": {
            "text/html": [
              "<div>\n",
              "<style scoped>\n",
              "    .dataframe tbody tr th:only-of-type {\n",
              "        vertical-align: middle;\n",
              "    }\n",
              "\n",
              "    .dataframe tbody tr th {\n",
              "        vertical-align: top;\n",
              "    }\n",
              "\n",
              "    .dataframe thead th {\n",
              "        text-align: right;\n",
              "    }\n",
              "</style>\n",
              "<table border=\"1\" class=\"dataframe\">\n",
              "  <thead>\n",
              "    <tr style=\"text-align: right;\">\n",
              "      <th></th>\n",
              "      <th>sum</th>\n",
              "    </tr>\n",
              "  </thead>\n",
              "  <tbody>\n",
              "    <tr>\n",
              "      <th>0</th>\n",
              "      <td>1771.0</td>\n",
              "    </tr>\n",
              "  </tbody>\n",
              "</table>\n",
              "</div>"
            ],
            "text/plain": [
              "      sum\n",
              "0  1771.0"
            ]
          },
          "execution_count": 16,
          "metadata": {},
          "output_type": "execute_result"
        }
      ],
      "source": [
        "# текст запроса\n",
        "\n",
        "# SQL-запрос для подсчета вакансий, имеющих отношение к данным\n",
        "query = f\"\"\"\n",
        "WITH names_grouped AS (\n",
        "    -- Выбираем название вакансии и считаем количество повторений\n",
        "    SELECT name, COUNT(*) AS count\n",
        "    FROM vacancies\n",
        "    -- Учитываем вакансии, в названии которых встречаются 'data' или 'данн' (в любом регистре)\n",
        "    WHERE name ILIKE '%%data%%' OR name ILIKE '%%данн%%' -- экранируем знак процента\n",
        "    GROUP BY name\n",
        ")\n",
        "-- Суммируем количество таких вакансий\n",
        "SELECT SUM(count)\n",
        "FROM names_grouped\n",
        "\"\"\"\n",
        "\n",
        "# Выполняем SQL-запрос и загружаем результат в DataFrame\n",
        "df = pd.read_sql(query, engine)\n",
        "\n",
        "# Выводим результат\n",
        "df\n"
      ]
    },
    {
      "cell_type": "markdown",
      "id": "4dea20cb-a36b-474a-a0b9-e08e8e3857a5",
      "metadata": {
        "id": "4dea20cb-a36b-474a-a0b9-e08e8e3857a5"
      },
      "source": [
        "2. Сколько есть подходящих вакансий для начинающего дата-сайентиста? \n",
        "Будем считать вакансиями для дата-сайентистов такие, в названии которых есть хотя бы одно из следующих сочетаний:\n",
        "* 'data scientist'\n",
        "* 'data science'\n",
        "* 'исследователь данных'\n",
        "* 'ML' (здесь не нужно брать вакансии по HTML)\n",
        "* 'machine learning'\n",
        "* 'машинн%обучен%'\n",
        "\n",
        "** В следующих заданиях мы продолжим работать с вакансиями по этому условию.*\n",
        "\n",
        "Считаем вакансиями для специалистов уровня Junior следующие:\n",
        "* в названии есть слово 'junior' *или*\n",
        "* требуемый опыт — Нет опыта *или*\n",
        "* тип трудоустройства — Стажировка.\n",
        " "
      ]
    },
    {
      "cell_type": "code",
      "execution_count": 17,
      "id": "9c61b3c0-bb66-46c9-ae1e-81d3f5752b4a",
      "metadata": {
        "id": "9c61b3c0-bb66-46c9-ae1e-81d3f5752b4a"
      },
      "outputs": [
        {
          "data": {
            "text/html": [
              "<div>\n",
              "<style scoped>\n",
              "    .dataframe tbody tr th:only-of-type {\n",
              "        vertical-align: middle;\n",
              "    }\n",
              "\n",
              "    .dataframe tbody tr th {\n",
              "        vertical-align: top;\n",
              "    }\n",
              "\n",
              "    .dataframe thead th {\n",
              "        text-align: right;\n",
              "    }\n",
              "</style>\n",
              "<table border=\"1\" class=\"dataframe\">\n",
              "  <thead>\n",
              "    <tr style=\"text-align: right;\">\n",
              "      <th></th>\n",
              "      <th>count</th>\n",
              "    </tr>\n",
              "  </thead>\n",
              "  <tbody>\n",
              "    <tr>\n",
              "      <th>0</th>\n",
              "      <td>51</td>\n",
              "    </tr>\n",
              "  </tbody>\n",
              "</table>\n",
              "</div>"
            ],
            "text/plain": [
              "   count\n",
              "0     51"
            ]
          },
          "execution_count": 17,
          "metadata": {},
          "output_type": "execute_result"
        }
      ],
      "source": [
        "# текст запроса\n",
        "\n",
        "# SQL-запрос для подсчета вакансий, подходящих для начинающего дата-сайентиста\n",
        "query = \"\"\"\n",
        "WITH data_science_vacancies AS (\n",
        "    -- Выбираем вакансии, относящиеся к Data Science\n",
        "    SELECT name, experience, employment\n",
        "    FROM vacancies\n",
        "    WHERE \n",
        "        -- Фильтр по ключевым словам для Data Science\n",
        "        name ILIKE ANY(%(keywords)s) \n",
        "        -- Фильтр по 'ML', исключая вакансии, связанные с HTML\n",
        "        OR (name ILIKE %(ML)s AND name NOT ILIKE %(HTML)s)\n",
        ")\n",
        "-- Отбираем только вакансии для Junior-специалистов\n",
        "SELECT COUNT(*)\n",
        "FROM data_science_vacancies\n",
        "WHERE \n",
        "    name ILIKE %(junior)s  -- В названии есть слово \"junior\"\n",
        "    OR experience = 'Нет опыта'  -- Требуемый опыт — \"Нет опыта\"\n",
        "    OR employment = 'Стажировка'  -- Тип трудоустройства — \"Стажировка\"\n",
        "\"\"\"\n",
        "\n",
        "# Список ключевых слов для фильтрации Data Science вакансий\n",
        "keywords = [\n",
        "    '%data scientist%', \n",
        "    '%data science%', \n",
        "    '%исследователь данных%', \n",
        "    '%machine learning%', \n",
        "    '%машинн%обучен%'\n",
        "]\n",
        "\n",
        "# Параметры для подстановки в SQL-запрос\n",
        "params = {\n",
        "    \"keywords\": keywords, \n",
        "    \"ML\": \"%ML%\", \n",
        "    \"HTML\": \"%HTML%\", \n",
        "    \"junior\": \"%junior%\"\n",
        "}\n",
        "\n",
        "# Выполняем SQL-запрос и загружаем результат в DataFrame\n",
        "df = pd.read_sql(query, engine, params=params)\n",
        "\n",
        "# Выводим результат\n",
        "df\n"
      ]
    },
    {
      "cell_type": "markdown",
      "id": "eedceb80-c5ca-480e-b27a-278dfb8b4438",
      "metadata": {
        "id": "eedceb80-c5ca-480e-b27a-278dfb8b4438"
      },
      "source": [
        "3. Сколько есть вакансий для DS, в которых в качестве ключевого навыка указан SQL или postgres?\n",
        "\n",
        "** Критерии для отнесения вакансии к DS указаны в предыдущем задании.*"
      ]
    },
    {
      "cell_type": "code",
      "execution_count": 18,
      "id": "69621713-0cc5-4f1b-a1d7-bb144fa6148c",
      "metadata": {
        "id": "69621713-0cc5-4f1b-a1d7-bb144fa6148c"
      },
      "outputs": [
        {
          "data": {
            "text/html": [
              "<div>\n",
              "<style scoped>\n",
              "    .dataframe tbody tr th:only-of-type {\n",
              "        vertical-align: middle;\n",
              "    }\n",
              "\n",
              "    .dataframe tbody tr th {\n",
              "        vertical-align: top;\n",
              "    }\n",
              "\n",
              "    .dataframe thead th {\n",
              "        text-align: right;\n",
              "    }\n",
              "</style>\n",
              "<table border=\"1\" class=\"dataframe\">\n",
              "  <thead>\n",
              "    <tr style=\"text-align: right;\">\n",
              "      <th></th>\n",
              "      <th>count</th>\n",
              "    </tr>\n",
              "  </thead>\n",
              "  <tbody>\n",
              "    <tr>\n",
              "      <th>0</th>\n",
              "      <td>229</td>\n",
              "    </tr>\n",
              "  </tbody>\n",
              "</table>\n",
              "</div>"
            ],
            "text/plain": [
              "   count\n",
              "0    229"
            ]
          },
          "execution_count": 18,
          "metadata": {},
          "output_type": "execute_result"
        }
      ],
      "source": [
        "# текст запроса\n",
        "\n",
        "# SQL-запрос для подсчета вакансий в Data Science, где среди ключевых навыков указан SQL или PostgreSQL\n",
        "query = \"\"\"\n",
        "WITH data_science_vacancies AS (\n",
        "    -- Выбираем вакансии, относящиеся к Data Science\n",
        "    SELECT key_skills\n",
        "    FROM vacancies\n",
        "    WHERE \n",
        "        -- Фильтр по ключевым словам для Data Science\n",
        "        name ILIKE ANY(%(keywords)s) \n",
        "        -- Фильтр по 'ML', исключая вакансии, связанные с HTML\n",
        "        OR (name ILIKE %(ML)s AND name NOT ILIKE %(HTML)s)\n",
        ")\n",
        "-- Отбираем только те вакансии, где среди ключевых навыков есть SQL или PostgreSQL\n",
        "SELECT COUNT(*)\n",
        "FROM data_science_vacancies\n",
        "WHERE \n",
        "    key_skills ILIKE %(skill1)s  -- Навык SQL\n",
        "    OR key_skills ILIKE %(skill2)s  -- Навык PostgreSQL\n",
        "\"\"\"\n",
        "\n",
        "# Список ключевых слов для фильтрации Data Science вакансий\n",
        "keywords = [\n",
        "    '%data scientist%', \n",
        "    '%data science%', \n",
        "    '%исследователь данных%', \n",
        "    '%machine learning%', \n",
        "    '%машинн%обучен%'\n",
        "]\n",
        "\n",
        "# Параметры для подстановки в SQL-запрос\n",
        "params = {\n",
        "    \"keywords\": keywords, \n",
        "    \"ML\": \"%ML%\", \n",
        "    \"HTML\": \"%HTML%\", \n",
        "    \"skill1\": \"%SQL%\", \n",
        "    \"skill2\": \"%postgres%\"\n",
        "}\n",
        "\n",
        "# Выполняем SQL-запрос и загружаем результат в DataFrame\n",
        "df = pd.read_sql(query, engine, params=params)\n",
        "\n",
        "# Выводим результат\n",
        "df\n"
      ]
    },
    {
      "cell_type": "markdown",
      "id": "1be1e9c6-37cf-4a5f-bfeb-04cab799dc80",
      "metadata": {
        "id": "1be1e9c6-37cf-4a5f-bfeb-04cab799dc80"
      },
      "source": [
        "4. Проверьте, насколько популярен Python в требованиях работодателей к DS.Для этого вычислите количество вакансий, в которых в качестве ключевого навыка указан Python.\n",
        "\n",
        "** Это можно сделать помощью запроса, аналогичного предыдущему.*"
      ]
    },
    {
      "cell_type": "code",
      "execution_count": 19,
      "id": "0036a355-9ccf-4564-8b01-73d8194297e7",
      "metadata": {
        "id": "0036a355-9ccf-4564-8b01-73d8194297e7"
      },
      "outputs": [
        {
          "data": {
            "text/html": [
              "<div>\n",
              "<style scoped>\n",
              "    .dataframe tbody tr th:only-of-type {\n",
              "        vertical-align: middle;\n",
              "    }\n",
              "\n",
              "    .dataframe tbody tr th {\n",
              "        vertical-align: top;\n",
              "    }\n",
              "\n",
              "    .dataframe thead th {\n",
              "        text-align: right;\n",
              "    }\n",
              "</style>\n",
              "<table border=\"1\" class=\"dataframe\">\n",
              "  <thead>\n",
              "    <tr style=\"text-align: right;\">\n",
              "      <th></th>\n",
              "      <th>count</th>\n",
              "    </tr>\n",
              "  </thead>\n",
              "  <tbody>\n",
              "    <tr>\n",
              "      <th>0</th>\n",
              "      <td>357</td>\n",
              "    </tr>\n",
              "  </tbody>\n",
              "</table>\n",
              "</div>"
            ],
            "text/plain": [
              "   count\n",
              "0    357"
            ]
          },
          "execution_count": 19,
          "metadata": {},
          "output_type": "execute_result"
        }
      ],
      "source": [
        "# текст запроса\n",
        "\n",
        "# SQL-запрос для подсчета вакансий в Data Science, где среди ключевых навыков указан Python\n",
        "query = \"\"\"\n",
        "WITH data_science_vacancies AS (\n",
        "    -- Выбираем вакансии, относящиеся к Data Science\n",
        "    SELECT key_skills\n",
        "    FROM vacancies\n",
        "    WHERE \n",
        "        -- Фильтр по ключевым словам для Data Science\n",
        "        name ILIKE ANY(%(keywords)s) \n",
        "        -- Фильтр по 'ML', исключая вакансии, связанные с HTML\n",
        "        OR (name ILIKE %(ML)s AND name NOT ILIKE %(HTML)s)\n",
        ")\n",
        "-- Отбираем только те вакансии, где среди ключевых навыков есть Python\n",
        "SELECT COUNT(*)\n",
        "FROM data_science_vacancies\n",
        "WHERE key_skills ILIKE %(skill)s\n",
        "\"\"\"\n",
        "\n",
        "# Список ключевых слов для фильтрации Data Science вакансий\n",
        "keywords = [\n",
        "    '%data scientist%', \n",
        "    '%data science%', \n",
        "    '%исследователь данных%', \n",
        "    '%machine learning%', \n",
        "    '%машинн%обучен%'\n",
        "]\n",
        "\n",
        "# Параметры для подстановки в SQL-запрос\n",
        "params = {\n",
        "    \"keywords\": keywords, \n",
        "    \"ML\": \"%ML%\", \n",
        "    \"HTML\": \"%HTML%\", \n",
        "    \"skill\": \"%Python%\"\n",
        "}\n",
        "\n",
        "# Выполняем SQL-запрос и загружаем результат в DataFrame\n",
        "df = pd.read_sql(query, engine, params=params)\n",
        "\n",
        "# Выводим результат\n",
        "df\n"
      ]
    },
    {
      "cell_type": "markdown",
      "id": "ec3c8db7-fa21-4a41-a994-1af63742a642",
      "metadata": {
        "id": "ec3c8db7-fa21-4a41-a994-1af63742a642"
      },
      "source": [
        "5. Сколько ключевых навыков в среднем указывают в вакансиях для DS?\n",
        "Ответ округлите до двух знаков после точки-разделителя."
      ]
    },
    {
      "cell_type": "code",
      "execution_count": 20,
      "id": "949132bc-d5b6-4611-8218-0b9a504d74f4",
      "metadata": {
        "id": "949132bc-d5b6-4611-8218-0b9a504d74f4"
      },
      "outputs": [
        {
          "data": {
            "text/html": [
              "<div>\n",
              "<style scoped>\n",
              "    .dataframe tbody tr th:only-of-type {\n",
              "        vertical-align: middle;\n",
              "    }\n",
              "\n",
              "    .dataframe tbody tr th {\n",
              "        vertical-align: top;\n",
              "    }\n",
              "\n",
              "    .dataframe thead th {\n",
              "        text-align: right;\n",
              "    }\n",
              "</style>\n",
              "<table border=\"1\" class=\"dataframe\">\n",
              "  <thead>\n",
              "    <tr style=\"text-align: right;\">\n",
              "      <th></th>\n",
              "      <th>avg_skills</th>\n",
              "    </tr>\n",
              "  </thead>\n",
              "  <tbody>\n",
              "    <tr>\n",
              "      <th>0</th>\n",
              "      <td>6.41</td>\n",
              "    </tr>\n",
              "  </tbody>\n",
              "</table>\n",
              "</div>"
            ],
            "text/plain": [
              "   avg_skills\n",
              "0        6.41"
            ]
          },
          "execution_count": 20,
          "metadata": {},
          "output_type": "execute_result"
        }
      ],
      "source": [
        "# текст запроса\n",
        "\n",
        "# SQL-запрос для расчета среднего количества ключевых навыков в вакансиях Data Science\n",
        "query = \"\"\"\n",
        "WITH data_science_vacancies AS (\n",
        "    -- Выбираем вакансии, относящиеся к Data Science, где указаны ключевые навыки\n",
        "    SELECT key_skills\n",
        "    FROM vacancies v\n",
        "    WHERE \n",
        "        -- Фильтр по ключевым словам для Data Science\n",
        "        v.name ILIKE ANY(%(keywords)s) \n",
        "        -- Фильтр по 'ML', исключая вакансии, связанные с HTML\n",
        "        OR (v.name LIKE %(ML)s AND v.name NOT ILIKE %(HTML)s)\n",
        "        -- Исключаем вакансии, где нет ключевых навыков, но можно этот фильтр и не ставить,\n",
        "        -- функция AVG() далее проигнорирует все NULL автоматом \n",
        "        AND v.key_skills IS NOT NULL\n",
        ")\n",
        "-- Рассчитываем среднее количество ключевых навыков\n",
        "SELECT ROUND(\n",
        "    AVG(\n",
        "        LENGTH(key_skills) - LENGTH(REPLACE(key_skills, CHR(9), '')) + 1\n",
        "    ), 2) AS avg_skills\n",
        "FROM data_science_vacancies\n",
        "\"\"\"\n",
        "\n",
        "# Список ключевых слов для фильтрации Data Science вакансий\n",
        "keywords = [\n",
        "    '%data scientist%', \n",
        "    '%data science%', \n",
        "    '%исследователь данных%', \n",
        "    '%machine learning%', \n",
        "    '%машинн%обучен%'\n",
        "]\n",
        "\n",
        "# Параметры для подстановки в SQL-запрос\n",
        "params = {\n",
        "    \"keywords\": keywords, \n",
        "    \"ML\": \"%ML%\", \n",
        "    \"HTML\": \"%HTML%\"\n",
        "}\n",
        "\n",
        "# Выполняем SQL-запрос и загружаем результат в DataFrame\n",
        "df = pd.read_sql(query, engine, params=params)\n",
        "\n",
        "# Выводим результат\n",
        "df\n"
      ]
    },
    {
      "cell_type": "markdown",
      "id": "1041c17a-ca8f-4543-a0ca-32778914fb00",
      "metadata": {
        "id": "1041c17a-ca8f-4543-a0ca-32778914fb00"
      },
      "source": [
        "6. Напишите запрос, позволяющий вычислить, какую зарплату для DS в **среднем** указывают для каждого типа требуемого опыта (уникальное значение из поля *experience*). \n",
        "\n",
        "При решении задачи примите во внимание следующее:\n",
        "1. Рассматриваем только вакансии, у которых заполнено хотя бы одно из двух полей с зарплатой.\n",
        "2. Если заполнены оба поля с зарплатой, то считаем зарплату по каждой вакансии как сумму двух полей, делённую на 2. Если заполнено только одно из полей, то его и считаем зарплатой по вакансии.\n",
        "3. Если в расчётах участвует null, в результате он тоже даст null (посмотрите, что возвращает запрос select 1 + null). Чтобы избежать этой ситуацию, мы воспользуемся функцией [coalesce](https://postgrespro.ru/docs/postgresql/9.5/functions-conditional#functions-coalesce-nvl-ifnull), которая заменит null на значение, которое мы передадим. Например, посмотрите, что возвращает запрос `select 1 + coalesce(null, 0)`\n",
        "\n",
        "Выясните, на какую зарплату в среднем может рассчитывать дата-сайентист с опытом работы от 3 до 6 лет. Результат округлите до целого числа. "
      ]
    },
    {
      "cell_type": "code",
      "execution_count": 35,
      "id": "6a743d39-5204-48d3-8271-b9f88e68d40e",
      "metadata": {
        "id": "6a743d39-5204-48d3-8271-b9f88e68d40e"
      },
      "outputs": [
        {
          "data": {
            "text/html": [
              "<div>\n",
              "<style scoped>\n",
              "    .dataframe tbody tr th:only-of-type {\n",
              "        vertical-align: middle;\n",
              "    }\n",
              "\n",
              "    .dataframe tbody tr th {\n",
              "        vertical-align: top;\n",
              "    }\n",
              "\n",
              "    .dataframe thead th {\n",
              "        text-align: right;\n",
              "    }\n",
              "</style>\n",
              "<table border=\"1\" class=\"dataframe\">\n",
              "  <thead>\n",
              "    <tr style=\"text-align: right;\">\n",
              "      <th></th>\n",
              "      <th>experience</th>\n",
              "      <th>average_salary</th>\n",
              "    </tr>\n",
              "  </thead>\n",
              "  <tbody>\n",
              "    <tr>\n",
              "      <th>0</th>\n",
              "      <td>Нет опыта</td>\n",
              "      <td>74643.0</td>\n",
              "    </tr>\n",
              "    <tr>\n",
              "      <th>1</th>\n",
              "      <td>От 1 года до 3 лет</td>\n",
              "      <td>139675.0</td>\n",
              "    </tr>\n",
              "    <tr>\n",
              "      <th>2</th>\n",
              "      <td>От 3 до 6 лет</td>\n",
              "      <td>243115.0</td>\n",
              "    </tr>\n",
              "  </tbody>\n",
              "</table>\n",
              "</div>"
            ],
            "text/plain": [
              "           experience  average_salary\n",
              "0           Нет опыта         74643.0\n",
              "1  От 1 года до 3 лет        139675.0\n",
              "2       От 3 до 6 лет        243115.0"
            ]
          },
          "metadata": {},
          "output_type": "display_data"
        },
        {
          "data": {
            "text/html": [
              "<div>\n",
              "<style scoped>\n",
              "    .dataframe tbody tr th:only-of-type {\n",
              "        vertical-align: middle;\n",
              "    }\n",
              "\n",
              "    .dataframe tbody tr th {\n",
              "        vertical-align: top;\n",
              "    }\n",
              "\n",
              "    .dataframe thead th {\n",
              "        text-align: right;\n",
              "    }\n",
              "</style>\n",
              "<table border=\"1\" class=\"dataframe\">\n",
              "  <thead>\n",
              "    <tr style=\"text-align: right;\">\n",
              "      <th></th>\n",
              "      <th>experience</th>\n",
              "      <th>average_salary</th>\n",
              "    </tr>\n",
              "  </thead>\n",
              "  <tbody>\n",
              "    <tr>\n",
              "      <th>2</th>\n",
              "      <td>От 3 до 6 лет</td>\n",
              "      <td>243115.0</td>\n",
              "    </tr>\n",
              "  </tbody>\n",
              "</table>\n",
              "</div>"
            ],
            "text/plain": [
              "      experience  average_salary\n",
              "2  От 3 до 6 лет        243115.0"
            ]
          },
          "execution_count": 35,
          "metadata": {},
          "output_type": "execute_result"
        }
      ],
      "source": [
        "# текст запроса\n",
        "\n",
        "# SQL-запрос для расчета средней зарплаты для DS в разрезе опыта работы\n",
        "query = \"\"\"\n",
        "SELECT experience, \n",
        "       -- Рассчитываем среднюю зарплату с округлением до целого числа\n",
        "       ROUND(AVG(\n",
        "           -- Если указаны обе границы зарплаты, берем их среднее\n",
        "           COALESCE((salary_from + salary_to) / 2, \n",
        "           -- Если указана только одна граница, берем ее\n",
        "           salary_from, salary_to)\n",
        "       )) AS average_salary\n",
        "FROM vacancies\n",
        "WHERE \n",
        "    -- Фильтр по ключевым словам для Data Science\n",
        "    (name ILIKE ANY(%(keywords)s) \n",
        "    OR (name LIKE %(ML)s AND name NOT ILIKE %(HTML)s))\n",
        "    -- Берем только те вакансии, где указана хотя бы одна из зарплат\n",
        "    AND (salary_from IS NOT NULL OR salary_to IS NOT NULL)\n",
        "GROUP BY experience\n",
        "ORDER BY experience\n",
        "\"\"\"\n",
        "\n",
        "# Список ключевых слов для фильтрации Data Science вакансий\n",
        "keywords = [\n",
        "    '%data scientist%', \n",
        "    '%data science%', \n",
        "    '%исследователь данных%', \n",
        "    '%machine learning%', \n",
        "    '%машинн%обучен%'\n",
        "]\n",
        "\n",
        "# Параметры для подстановки в SQL-запрос\n",
        "params = {\n",
        "    \"keywords\": keywords, \n",
        "    \"ML\": \"%ML%\", \n",
        "    \"HTML\": \"%HTML%\"\n",
        "}\n",
        "\n",
        "# Выполняем SQL-запрос и загружаем результат в DataFrame\n",
        "df = pd.read_sql(query, engine, params=params)\n",
        "\n",
        "# Выводим результат запроса\n",
        "display(df)\n",
        "\n",
        "# Фильтруем только вакансии с опытом \"От 3 до 6 лет\"\n",
        "df = df[df['experience'] == 'От 3 до 6 лет']\n",
        "\n",
        "# Выводим результат\n",
        "df\n",
        "\n"
      ]
    },
    {
      "cell_type": "markdown",
      "id": "6a7892b4-4113-4746-adce-18aa2844f18e",
      "metadata": {
        "id": "6a7892b4-4113-4746-adce-18aa2844f18e"
      },
      "source": [
        "***"
      ]
    },
    {
      "cell_type": "markdown",
      "id": "10bd60c0",
      "metadata": {},
      "source": [
        "## Выводы по предметному анализу\n",
        "\n",
        "---\n",
        "\n",
        "### **Задание 6.1: Сколько вакансий имеет отношение к данным?**  \n",
        "**Результат**: 1771 вакансия.  \n",
        "**Вывод**: Вакансий, связанных с данными, довольно много, что подтверждает высокий спрос на специалистов в этой области.  \n",
        "\n",
        "---\n",
        "\n",
        "### **Задание 6.2: Сколько есть подходящих вакансий для начинающего дата-сайентиста?**  \n",
        "**Результат**: 51 вакансия.  \n",
        "**Вывод**: Количество вакансий для Junior-специалистов относительно небольшое (2.88% от всех вакансий, связанных с данными). Это говорит о том, что работодатели чаще ищут более опытных кандидатов, а начинающим специалистам может быть сложнее найти работу.  \n",
        "\n",
        "---\n",
        "\n",
        "### **Задание 6.3: Сколько есть вакансий для DS, в которых в качестве ключевого навыка указан SQL или Postgres?**  \n",
        "**Результат**: 229 вакансий.  \n",
        "**Вывод**: SQL и Postgres востребованы примерно в 12.9% вакансий для DS. Это подтверждает, что умение работать с базами данных — важный навык для дата-сайентиста.  \n",
        "\n",
        "---\n",
        "\n",
        "### **Задание 6.4: Насколько популярен Python в требованиях работодателей к DS?**  \n",
        "**Результат**: 357 вакансий.  \n",
        "**Вывод**: Python встречается в требованиях примерно в 20.2% вакансий. Это делает его одним из самых популярных языков программирования среди требований к дата-сайентистам.  \n",
        "\n",
        "---\n",
        "\n",
        "### **Задание 6.5: Сколько ключевых навыков в среднем указывают в вакансиях для DS?**  \n",
        "**Результат**: 6.41 навыка.  \n",
        "**Вывод**: В среднем работодатели ожидают, что кандидат по DS-вакансиям обладает более чем шестью разными навыками. Это подчеркивает важность владения широким спектром инструментов и технологий.  \n",
        "\n",
        "---\n",
        "\n",
        "### **Задание 6.6: Какая средняя зарплата для DS в зависимости от опыта?**  \n",
        "**Результаты**:  \n",
        "- **Нет опыта** - 74 643  \n",
        "- **От 1 до 3 лет** - 139 675  \n",
        "- **От 3 до 6 лет** - 243 115  \n",
        "\n",
        "**Вывод**:  \n",
        "Зарплата растет с увеличением опыта, причем скачок между уровнями \"От 1 до 3 лет\" и \"От 3 до 6 лет\" довольно значительный. Это говорит о том, что приобретение опыта и развитие навыков в области DS значительно повышает доход.  \n",
        "\n",
        "---\n",
        "**Общий вывод**\n",
        "\n",
        "Анализ показывает, что:  \n",
        "1. **Сфера науки о данных очень востребована** – более 1700 вакансий содержат слова \"data\" или \"данные\".  \n",
        "2. **Начинающим специалистам сложнее устроиться** – вакансий для Junior всего 51.  \n",
        "3. **SQL (229 упоминаний) и Python (357 упоминаний) – ключевые навыки** в DS.  \n",
        "4. **Специалисты должны обладать широким спектром навыков** (в среднем 6.41 навыка).  \n",
        "5. **Зарплата значительно растет с опытом** – специалисты с 3-6 годами опыта зарабатывают в 3.2 раза больше, чем те, у кого опыта нет.  \n",
        "\n",
        "Этот анализ подтверждает, что Data Science – перспективная, востребованная профессия с высокими требованиями к кандидатам, где важно не только знание языков программирования, но и работа с базами данных, машинное обучение и аналитические навыки."
      ]
    },
    {
      "cell_type": "markdown",
      "id": "c0ED6fh7wiBT",
      "metadata": {
        "id": "c0ED6fh7wiBT"
      },
      "source": [
        "# Общий вывод по проекту"
      ]
    },
    {
      "cell_type": "markdown",
      "id": "f095092c",
      "metadata": {},
      "source": [
        "##### подведем итог исследования, обобщите выводы\n",
        "##### здесь можно (это будет плюсом) провести дополнительные исследования данных, сделать прогнозы, продумать варианты продолжения исследования\n",
        "\n",
        "## **Общий вывод по проекту \"Анализ вакансий из HeadHunter\"**\n",
        "\n",
        "Анализ данных о вакансиях с HeadHunter позволил выявить ключевые тенденции на рынке труда, особенности занятости, требования к кандидатам и востребованные навыки.\n",
        "\n",
        "### **1. Общие характеристики базы вакансий**\n",
        "В базе представлено 49 197 вакансий от 23 501 работодателя, охватывающих 1 362 региона и 294 сферы деятельности. Это указывает на широкий географический охват рынка труда и его диверсификацию.\n",
        "\n",
        "Среднее число вакансий на одного работодателя – около 2, что может свидетельствовать о небольшом количестве открытых позиций в большинстве компаний. Однако распределение числа вакансий требует детального анализа.\n",
        "\n",
        "### **2. География и распределение вакансий**\n",
        "- Наибольшее количество вакансий представлено в **Москве (5333 вакансии)**, **Санкт-Петербурге (2851)** и **Минске (2112)**.\n",
        "- Высокая активность работодателей наблюдается в крупных городах и столицах.\n",
        "- В странах ближнего зарубежья значительное число вакансий размещено в **Алматы, Ташкенте и Нур-Султане**.\n",
        "\n",
        "### **3. Зарплатные ожидания**\n",
        "- Лишь в **49% вакансий указана зарплата**.\n",
        "- Средний уровень зарплатной вилки: **от 71 065 ₽ до 110 537 ₽**, с разбросом в **39 472 ₽**.\n",
        "- Верхняя граница зарплаты почти в 1.5 раза выше нижней, что может отражать зависимость заработка от квалификации кандидата.\n",
        "\n",
        "### **4. Форматы работы и занятость**\n",
        "- **Полная занятость и полный рабочий день** преобладают (72% вакансий).\n",
        "- **Удаленная работа** составляет 16% вакансий, подтверждая тенденцию к распространению гибких форматов работы.\n",
        "- **Гибкий график, сменные режимы, стажировки и вахтовый метод** представлены в меньшей степени.\n",
        "\n",
        "### **5. Требования к опыту работы**\n",
        "- **53.2% вакансий требуют 1-3 года опыта**.\n",
        "- **29.5% – от 3 до 6 лет**.\n",
        "- Лишь **2.7% вакансий требуют более 6 лет опыта**, что говорит о небольшом количестве позиций для высококвалифицированных специалистов.\n",
        "- 14.6% вакансий предназначены для кандидатов без опыта работы.\n",
        "\n",
        "### **6. Анализ работодателей**\n",
        "- Лидерами по числу вакансий являются **Яндекс (1933 вакансии), Ростелеком (491), Тинькофф (444), СБЕР (428), Газпром нефть (331)**.\n",
        "- **Разработка ПО** – наиболее представленная сфера деятельности (3553 работодателя).\n",
        "- Многие работодатели работают в нескольких сферах бизнеса, что подтверждает диверсификацию компаний.\n",
        "\n",
        "### **7. Предметный анализ (Data Science и IT-направление)**\n",
        "- Вакансий, связанных с данными, **1771**, что подтверждает высокую востребованность специалистов по анализу данных.\n",
        "- Вакансий для **Junior Data Scientist** – **всего 51**, что говорит о сложностях входа в профессию.\n",
        "- **SQL (229 вакансий) и Python (357 вакансий)** – наиболее востребованные технические навыки.\n",
        "- Средний кандидат по DS-вакансии должен обладать **6.41 ключевым навыком**.\n",
        "- Зарплаты растут с опытом: **от 74 643 ₽ (без опыта) до 243 115 ₽ (3-6 лет опыта)**.\n",
        "\n",
        "\n",
        "\n",
        "### **Общий итог**\n",
        "\n",
        "Анализ вакансий на HeadHunter показал, что рынок труда динамичен и активно развивается.\n",
        "\n",
        "* Основной спрос сосредоточен в крупных городах, а наибольшее количество вакансий предлагают IT-компании.\n",
        "* Удаленная работа набирает популярность, но пока не доминирует.\n",
        "* Большинство работодателей предпочитает нанимать кандидатов с опытом работы от 1 года, а позиции для  Junior-специалистов составляют лишь небольшую часть рынка.\n",
        "* Data Science – перспективное направление, но требует широкого набора навыков, а зарплаты сильно зависят от уровня опыта.\n",
        "  \n",
        "\n",
        "Анализ позволил выявить основные тренды и востребованные навыки, что может помочь как работодателям в поиске специалистов, так и соискателям в выборе карьерного пути."
      ]
    },
    {
      "cell_type": "markdown",
      "id": "f105de46",
      "metadata": {},
      "source": [
        "## **Дополнительные исследования данных** \n",
        "\n",
        "### 1. Какие отрасли больше всего нуждаются в специалистах?"
      ]
    },
    {
      "cell_type": "code",
      "execution_count": 45,
      "id": "e21c4bb0",
      "metadata": {},
      "outputs": [
        {
          "name": "stdout",
          "output_type": "stream",
          "text": [
            "1. Разработка программного обеспечения (12499)\n",
            "2. Системная интеграция,  автоматизации технологических и бизнес-процессов предприятия, ИТ-консалтинг (11034)\n",
            "3. Интернет-компания (поисковики, платежные системы, соц.сети, информационно-познавательные и развлекательные ресурсы, продвижение сайтов и прочее) (6413)\n",
            "4. Банк (2742)\n",
            "5. Мобильная связь (1585)\n",
            "6. Кадровые агентства (1143)\n",
            "7. Консалтинговые услуги (1137)\n",
            "8. Интернет-провайдер (1095)\n",
            "9. Розничная сеть (продуктовая) (1034)\n",
            "10. Фиксированная связь (1028)\n",
            "11. Оптоволоконная связь (1012)\n",
            "12. Маркетинговые, рекламные, BTL, дизайнерские, Event-, PR-агентства, организация выставок (1001)\n",
            "13. Интернет-магазин (788)\n",
            "14. Электронно-вычислительная, оптическая, контрольно-измерительная техника, радиоэлектроника, автоматика (продвижение, оптовая торговля) (622)\n",
            "15. Электронно-вычислительная, оптическая, контрольно-измерительная техника, радиоэлектроника, автоматика (производство) (584)\n",
            "16. Нефтепереработка, нефтехимия (производство) (573)\n",
            "17. Металлические изделия, металлоконструкции (производство) (568)\n",
            "18. Промышленное, бытовое электрооборудование и электротехника (производство) (528)\n",
            "19. ГСМ, топливо (розничная торговля) (508)\n",
            "20. Промышленное, бытовое электрооборудование и электротехника (продвижение, оптовая торговля) (495)\n"
          ]
        }
      ],
      "source": [
        "# SQL-запрос для определения отраслей с наибольшим числом вакансий\n",
        "query = '''\n",
        "    SELECT i.name, COUNT(*)  -- Выбираем название отрасли и количество вакансий\n",
        "    FROM employers e\n",
        "    JOIN employers_industries ei ON e.id = ei.employer_id  -- Связываем работодателей с их отраслями\n",
        "    JOIN industries i ON ei.industry_id = i.id  -- Связываем с таблицей отраслей\n",
        "    JOIN vacancies v ON v.employer_id = e.id  -- Связываем с вакансиями, чтобы учитывать только активных работодателей\n",
        "    GROUP BY i.name  -- Группируем по названию отрасли\n",
        "    ORDER BY COUNT(*) DESC  -- Сортируем по количеству вакансий по убыванию\n",
        "    LIMIT 20  -- Ограничиваем выборку 15 самыми востребованными отраслями\n",
        "'''\n",
        "\n",
        "# Выполняем запрос и загружаем результат в DataFrame\n",
        "df = pd.read_sql_query(query, engine)\n",
        "\n",
        "# Выводим данные в удобочитаемом формате\n",
        "for index, row in df.iterrows():\n",
        "    print(f\"{index + 1}. {row['name']} ({row['count']})\")\n",
        "\n"
      ]
    },
    {
      "cell_type": "markdown",
      "id": "8871c634",
      "metadata": {},
      "source": [
        "### **Выводы по анализу отраслей с наибольшим числом вакансий**  \n",
        "\n",
        "**1. Самая востребованная сфера — IT и технологии**  \n",
        "   - **Разработка программного обеспечения (12 499 вакансий)**,  \n",
        "   - **Системная интеграция и автоматизация (11 034 вакансии)**,  \n",
        "   - **Интернет-компании (6 413 вакансий)**.  \n",
        "   Это подтверждает, что **спрос на IT-специалистов огромен**, и рынок продолжает активно расти. Разработка ПО, автоматизация бизнес-процессов, интеграция IT-решений и интернет-сервисы требуют большого количества сотрудников.  \n",
        "\n",
        "**2. Финансовый сектор (банки) также остается одним из крупнейших работодателей**  \n",
        "   - **Банки (2 742 вакансии)** занимают 4-е место.  \n",
        "    \n",
        "   Это говорит о **высоком спросе на специалистов в финансовой сфере**, особенно в области цифровых решений и банковских технологий.  \n",
        "\n",
        "**3. Сфера телекоммуникаций и связи**  \n",
        "   - **Мобильная связь (1 585 вакансий)**,  \n",
        "   - **Интернет-провайдеры (1 095 вакансий)**,  \n",
        "   - **Фиксированная связь (1 028 вакансий)**,  \n",
        "   - **Оптоволоконная связь (1 012 вакансий)**.  \n",
        "   \n",
        "   **Телесвязь и интернет-инфраструктура продолжают активно развиваться**, что создает спрос на специалистов в этой сфере.  \n",
        "\n",
        "**4. HR, рекрутинг и консалтинг**  \n",
        "   - **Кадровые агентства (1 143 вакансии)**,  \n",
        "   - **Консалтинговые услуги (1 137 вакансий)**.  \n",
        "   \n",
        "   Это может говорить о **нехватке кадров на рынке труда** и росте популярности аутсорсинга рекрутинга и консалтинговых услуг.  \n",
        "\n",
        "**5. Ритейл и e-commerce**  \n",
        "   - **Розничные сети (1 034 вакансии)**,  \n",
        "   - **Интернет-магазины (788 вакансий)**.  \n",
        "   \n",
        "   В условиях цифровизации **онлайн-торговля продолжает развиваться**, создавая спрос на специалистов в маркетинге, логистике и IT.  \n",
        "\n",
        "**6. Реклама и маркетинг**  \n",
        "   - **Маркетинговые и рекламные агентства (1 001 вакансия)**.  \n",
        "   \n",
        "   Важность digital-маркетинга и рекламы **не снижается**, что объясняет большое число вакансий в этой сфере.  \n",
        "\n",
        "**7. Производство и технические специальности**  \n",
        "   - **Электронно-вычислительная, оптическая, контрольно-измерительная техника, радиоэлектроника, автоматика**  \n",
        "     - Продвижение, оптовая торговля (622 вакансии).  \n",
        "     - Производство (584 вакансии).  \n",
        "   Хотя технические и инженерные вакансии не занимают лидирующие позиции, **спрос на специалистов в этих областях остается стабильным**.  \n",
        "\n",
        "### **Основные выводы:**  \n",
        " **IT — лидер по количеству вакансий.** Разработка ПО, системная интеграция и интернет-сервисы создают основную часть спроса.  \n",
        " **Финансовый и телекоммуникационный сектор** также активно нанимает специалистов.  \n",
        " **Рынок труда испытывает нехватку специалистов**, что подтверждается спросом на кадровые агентства и консалтинговые услуги.  \n",
        " **E-commerce, маркетинг и ритейл развиваются**, создавая новые рабочие места.  \n",
        " **Технические и инженерные вакансии есть, но их меньше, чем IT-позиций.**  \n",
        "\n",
        "\n",
        "Этот анализ показывает ключевые тенденции на рынке труда и может быть полезен как для работодателей, так и для соискателей. "
      ]
    },
    {
      "cell_type": "markdown",
      "id": "77d11bd8",
      "metadata": {},
      "source": [
        "### 2. В каких отраслях самый высокий средний уровень зарплат?"
      ]
    },
    {
      "cell_type": "code",
      "execution_count": 44,
      "id": "41718af6",
      "metadata": {},
      "outputs": [
        {
          "name": "stdout",
          "output_type": "stream",
          "text": [
            "1. Агрохимия (продвижение, оптовая торговля) (381429.0 руб.)\n",
            "2. Агрохимия (производство) (339875.0 руб.)\n",
            "3. Игорный бизнес (191905.0 руб.)\n",
            "4. Корма для животных (производство) (168300.0 руб.)\n",
            "5. Зоомагазин (167613.0 руб.)\n",
            "6. Кадровые агентства (144530.0 руб.)\n",
            "7. Лакокрасочная продукция, сырье (производство) (142803.0 руб.)\n",
            "8. Бытовая химия, парфюмерия, косметика  (производство) (130120.0 руб.)\n",
            "9. Лакокрасочная продукция, сырье (продвижение, оптовая торговля) (128445.0 руб.)\n",
            "10. Дорожно-строительная техника, сельскохозяйственная и другая спец.техника, оборудование, лифты, погрузочно-разгрузочное, складское оборудование (производство) (122878.0 руб.)\n",
            "11. Дорожно-строительная техника, сельскохозяйственная и другая спец.техника, оборудование, лифты, погрузочно-разгрузочное, складское оборудование (продвижение, оптовая торговля) (119919.0 руб.)\n",
            "12. Оборудование для пищевой промышленности, упаковки и хранения (производство) (119656.0 руб.)\n",
            "13. Финансово-кредитное посредничество (биржа, брокерская деятельность, выпуск и обслуживание карт, оценка рисков, обменные пункты, агентства по кредитованию, инкассация, ломбард, платежные системы) (117714.0 руб.)\n",
            "14. Разработка программного обеспечения (117659.0 руб.)\n",
            "15. Управляющая, инвестиционная компания (управление активами) (114297.0 руб.)\n",
            "16. Корма для животных (продвижение, оптовая торговля) (113667.0 руб.)\n",
            "17. Ветеринарная деятельность (113364.0 руб.)\n",
            "18. Учреждение соц.помощи и защиты (113125.0 руб.)\n",
            "19. Лизинговые компании (112306.0 руб.)\n",
            "20. Пошив, ремонт одежды и обуви (104000.0 руб.)\n"
          ]
        }
      ],
      "source": [
        "# SQL-запрос для определения отраслей с самым высоким средним уровнем зарплат\n",
        "query =  '''\n",
        "    SELECT  \n",
        "        i.name AS name,  -- Название отрасли\n",
        "        ROUND(AVG(\n",
        "            COALESCE((v.salary_from + v.salary_to) / 2, v.salary_from, v.salary_to)\n",
        "        )) AS avg_salary  -- Средняя зарплата (берем среднее значение, если указаны оба диапазона)\n",
        "    FROM employers e\n",
        "    JOIN employers_industries ei ON e.id = ei.employer_id \n",
        "    JOIN industries i ON ei.industry_id = i.id\n",
        "    JOIN vacancies v ON v.employer_id = e.id\n",
        "    WHERE v.salary_from IS NOT NULL OR v.salary_to IS NOT NULL  -- Фильтр: учитывать только вакансии, где указана зарплата\n",
        "    GROUP BY 1  -- Группировка по названию отрасли\n",
        "    ORDER BY 2 DESC  -- Сортировка по убыванию средней зарплаты\n",
        "    LIMIT 20  -- Выводим топ-20 отраслей\n",
        "'''\n",
        "\n",
        "# Выполнение запроса и загрузка данных в DataFrame\n",
        "df = pd.read_sql_query(query, engine)\n",
        "\n",
        "# Вывод данных в удобном формате\n",
        "for index, row in df.iterrows():\n",
        "    print(f\"{index + 1}. {row['name']} ({row['avg_salary']} руб.)\")\n"
      ]
    },
    {
      "cell_type": "markdown",
      "id": "0677a040",
      "metadata": {},
      "source": [
        "###  **Анализ данных по уровню зарплат в отраслях**  \n",
        "\n",
        "---\n",
        "\n",
        "#### **В каких отраслях самый высокий средний уровень зарплат?**\n",
        "Наибольши средний уровень зарплат выявлен в следующих отраслях:  \n",
        "1. **Агрохимия (оптовая торговля)** – 381,429 руб.  \n",
        "2. **Агрохимия (производство)** – 339,875 руб.  \n",
        "3. **Игорный бизнес** – 191,905 руб.  \n",
        "4. **Производство кормов для животных** – 168,300 руб.  \n",
        "5. **Зоомагазины** – 167,613 руб.  \n",
        "6. **Кадровые агентства** – 144,530 руб.  \n",
        "7. **Лакокрасочная продукция (производство)** – 142,803 руб.  \n",
        "8. **Бытовая химия, парфюмерия, косметика (производство)** – 130,120 руб.  \n",
        "9. **Финансово-кредитное посредничество** – 117,714 руб.  \n",
        "10. **Разработка программного обеспечения** – 117,659 руб.  \n",
        "\n",
        " **Вывод:** Самые высокие зарплаты наблюдаются в специфических секторах, связанных с агрохимией, производством, игорным бизнесом и финансовым сектором.\n",
        "\n",
        "---\n",
        "\n",
        "###  **Совместный анализ по востребованности специалистов и уровню зарплат в отраслях**\n",
        "1. **IT-сфера (разработка ПО, системная интеграция, интернет-компании)**  \n",
        "   - Одна из самых востребованных отраслей по количеству вакансий.  \n",
        "   - Средняя зарплата в **разработке ПО** – **117,659 руб.**  \n",
        "   - **Вывод**: Вакансий в IT очень много, а уровень зарплат один из высоких, что подтверждает высокий спрос на специалистов.  \n",
        "\n",
        "2. **Финансово-кредитный сектор (банки, биржи, брокеры и пр.)**  \n",
        "   - Банки на **4-м месте по числу вакансий**.  \n",
        "   - Средняя зарплата **117,714 руб.** (высокий уровень).  \n",
        "   - **Вывод**: Финансовый сектор предлагает хорошие зарплаты и имеет стабильную потребность в кадрах.  \n",
        "\n",
        "3. **Кадровые агентства**  \n",
        "   - Вошли в **топ-10 по количеству вакансий** (1,143).  \n",
        "   - Средняя зарплата **144,530 руб.** (одна из самых высоких).  \n",
        "   - **Вывод**: Высокая зарплата может быть связана с тем, что кадровые агентства в большинстве случаев размещают вакансии от имени других компаний и часто ищут высококвалифицированных специалистов и топ-менеджеров, где зарплаты выше среднего. Исключение — если агентство ищет сотрудников для себя (например, рекрутеров, HR-менеджеров). Но таких вакансий мало по сравнению с общим объемом размещаемых ими объявлений.  \n",
        "\n",
        "4. **Мобильная связь**  \n",
        "   - Входит в топ-5 по количеству вакансий.  \n",
        "   - Отсутствует в списке с высокими зарплатами.  \n",
        "   - **Вывод**: Отрасль предлагает много рабочих мест, но, возможно, с невысокими зарплатами по сравнению с IT и финансами.  \n",
        "\n",
        "---\n",
        "\n",
        "###  **Общий вывод**\n",
        "- **IT и финансы** – **лучшие отрасли** по сочетанию востребованности и уровня зарплат.  \n",
        "- **Агрохимия и игорный бизнес** – имеют **высокие зарплаты**, но относительно небольшое количество вакансий (не вошли в  двадцатку).  \n",
        "- **Кадровые агентства** – неожиданно высокая зарплата, вероятно, из-за комиссий и премий за подбор специалистов.  \n",
        "- **Телекоммуникации** (мобильная связь, интернет-провайдеры) – активно ищу сотрудников, но зарплаты, вероятно, ниже средних по другим востребованным отраслям.  \n",
        "\n",
        "---\n"
      ]
    },
    {
      "cell_type": "markdown",
      "id": "6c52bd47",
      "metadata": {},
      "source": [
        "## Варианты возможных направлений дополнительных исследований \n",
        "\n",
        "### **1. Более глубокий анализ зарплат**  \n",
        "- Распределение зарплат не только по отраслям, ни и по регионам.  \n",
        "- Влияние навыков (скилов), а так же опыта на уровень зарплаты в разных профессиях. \n",
        "- Разница в зарплатах между вакансиями в зависимости от типа рабочего графика и трудоустройства, а также их сочения.\n",
        "\n",
        "### **2. Изменение рынка труда во времени**  \n",
        "- Динамика роста или спада количества вакансий за определенный период.  \n",
        "- Как изменяются требования работодателей к опыту и навыкам со временем.  \n",
        "- Сезонность в размещении вакансий. \n",
        "\n",
        "### **3. Более глубокий анализ ключевых навыков, вообще, а также вакансий для стажеров и молодых специалистов**  \n",
        "- Какие навыки чаще всего встречается в требованиях (например, Python, SQL, Excel, HTML...).   \n",
        "- Какие редкие навыки ценятся больше (возможно, они встречаются только в высокооплачиваемые вакансиях). \n",
        "- Насколько гибко компании готовы рассматривать кандидатов без опыта или с частично подходящими навыками.  \n",
        "- В каких отраслях компании чаще всего нанимают новичков. \n",
        "- Какие компании чаще предлагают стажировки.  \n",
        "- Как быстро растет зарплата у начинающих специалистов. \n",
        "- В каких вакансиях обязательное требование — высшее образование. \n",
        "\n",
        "Это только часть направлений возможных дополнительных исследований рынка труда, все зависит от специфики целей и задач проводимого исследования."
      ]
    }
  ],
  "metadata": {
    "colab": {
      "collapsed_sections": [
        "8d62a9f3-f64e-4fe7-bdac-c4dffa16155e"
      ],
      "provenance": []
    },
    "kernelspec": {
      "display_name": "Python 3",
      "language": "python",
      "name": "python3"
    },
    "language_info": {
      "codemirror_mode": {
        "name": "ipython",
        "version": 3
      },
      "file_extension": ".py",
      "mimetype": "text/x-python",
      "name": "python",
      "nbconvert_exporter": "python",
      "pygments_lexer": "ipython3",
      "version": "3.12.3"
    }
  },
  "nbformat": 4,
  "nbformat_minor": 5
}
